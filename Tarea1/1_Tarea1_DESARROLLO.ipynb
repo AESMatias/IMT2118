{
  "nbformat": 4,
  "nbformat_minor": 0,
  "metadata": {
    "colab": {
      "provenance": [],
      "machine_shape": "hm",
      "gpuType": "A100"
    },
    "kernelspec": {
      "name": "python3",
      "display_name": "Python 3"
    },
    "language_info": {
      "name": "python"
    },
    "accelerator": "GPU"
  },
  "cells": [
    {
      "cell_type": "markdown",
      "source": [
        "Como en el enunciado de la tarea, se usará .to_crs(32719) para convertir todos los datos al mismo sistema coordenado de referencia, dejándolo por defecto me dio problemas."
      ],
      "metadata": {
        "id": "doiKk3HbZQno"
      }
    },
    {
      "cell_type": "markdown",
      "source": [
        "3.1 Construya una nueva capa vectorial con un único polígono que encierre toda el área de estudio. Es decir, el polígono más pequeño que contenga a todas las viviendas catastradas [3pts]."
      ],
      "metadata": {
        "id": "I-6WBHC40Yyl"
      }
    },
    {
      "cell_type": "code",
      "execution_count": 77,
      "metadata": {
        "id": "EkmlpEoAiXdn"
      },
      "outputs": [],
      "source": [
        "import geopandas as gpd\n",
        "\n",
        "# Cargamos el shapeile de las edificaciones.\n",
        "edificaciones = gpd.read_file(\"Edificaciones.shp\").to_crs(32719)\n",
        "\n",
        "# Construimos una capa vectorial con un único polígono del área de estudio.\n",
        "area_estudio = edificaciones.geometry.union_all().convex_hull\n",
        "\n",
        "# Convertimos el area de estudio a GDF y lo almacenamos en una variable.\n",
        "area_gdf = gpd.GeoDataFrame(geometry=[area_estudio], crs=edificaciones.crs)\n",
        "\n",
        "# Guardamos la capa en un nuevo archivo, que posteriormente usaremos\n",
        "area_gdf.to_file(\"area_estudio.shp\")"
      ]
    },
    {
      "cell_type": "markdown",
      "source": [
        "Ahora usamos la librería rasterio para recortar el DEM"
      ],
      "metadata": {
        "id": "Isdu5uwSkeYN"
      }
    },
    {
      "cell_type": "code",
      "source": [
        "!pip install rasterio"
      ],
      "metadata": {
        "id": "c2WNgLCrj-aK",
        "colab": {
          "base_uri": "https://localhost:8080/"
        },
        "outputId": "5c4ca354-6027-419f-a6cb-e2d06ffecad6"
      },
      "execution_count": 78,
      "outputs": [
        {
          "output_type": "stream",
          "name": "stdout",
          "text": [
            "Requirement already satisfied: rasterio in /usr/local/lib/python3.11/dist-packages (1.4.3)\n",
            "Requirement already satisfied: affine in /usr/local/lib/python3.11/dist-packages (from rasterio) (2.4.0)\n",
            "Requirement already satisfied: attrs in /usr/local/lib/python3.11/dist-packages (from rasterio) (25.3.0)\n",
            "Requirement already satisfied: certifi in /usr/local/lib/python3.11/dist-packages (from rasterio) (2025.1.31)\n",
            "Requirement already satisfied: click>=4.0 in /usr/local/lib/python3.11/dist-packages (from rasterio) (8.1.8)\n",
            "Requirement already satisfied: cligj>=0.5 in /usr/local/lib/python3.11/dist-packages (from rasterio) (0.7.2)\n",
            "Requirement already satisfied: numpy>=1.24 in /usr/local/lib/python3.11/dist-packages (from rasterio) (2.0.2)\n",
            "Requirement already satisfied: click-plugins in /usr/local/lib/python3.11/dist-packages (from rasterio) (1.1.1)\n",
            "Requirement already satisfied: pyparsing in /usr/local/lib/python3.11/dist-packages (from rasterio) (3.2.1)\n"
          ]
        }
      ]
    },
    {
      "cell_type": "markdown",
      "source": [
        "3.2 Obtenga un DEM de la zona de estudio, y genere un raster de pendientes para el terreno. Indique claramente la fuente y link de descarga del DEM utilizado [3pts]:\n",
        "\n",
        "Se ha utilizado el DEM Alos Palsar Región de Valparaíso entregada por el sitio web geoportal.cl:\n",
        "https://www.geoportal.cl/geoportal/catalog/35435/DEM%20Alos%20Palsar%20Regi%C3%B3n%20de%20Valpara%C3%ADso\n",
        "\n",
        "https://www.geoportal.cl/geoportal/catalog/download/b538717f-cc50-3c8e-bd28-2aff59d4f4e5"
      ],
      "metadata": {
        "id": "dc9O-dTN0omn"
      }
    },
    {
      "cell_type": "code",
      "source": [
        "import rasterio\n",
        "import matplotlib.pyplot as plt\n",
        "\n",
        "# Ruta del archivo DEM de valpo, formato jp2.\n",
        "dem_path_valpo = \"5.jp2\"\n",
        "\n",
        "# Visualizamos el DEM para mayor seguridad\n",
        "with rasterio.open(dem_path_valpo) as src:\n",
        "    dem = src.read(1)  # Leer el primer dato de elevación\n",
        "    plt.imshow(dem, cmap=\"terrain\")\n",
        "    plt.colorbar(label=\"Elevación\")\n",
        "    plt.title(\"Digital Elevation Model - DEM\")\n",
        "    plt.show()\n"
      ],
      "metadata": {
        "id": "Q_WZGgeHifCF"
      },
      "execution_count": null,
      "outputs": []
    },
    {
      "cell_type": "code",
      "source": [
        "# Recorttamos el DEM usando el polígono anteriormente almacenado para\n",
        "# el área de estudio.\n",
        "from rasterio.mask import mask\n",
        "\n",
        "# Recortamos el DEM en relación al área d estudio\n",
        "with rasterio.open(dem_path_valpo) as src:\n",
        "    dem_recortado, transform = mask(src, area_gdf.geometry, crop=True)\n",
        "\n",
        "# Visualizamos el DEM recortado\n",
        "plt.imshow(dem_recortado[0], cmap=\"terrain\")\n",
        "plt.colorbar(label=\"Elevación (m)\")\n",
        "plt.title(\"DEM Recortado al polígono de estudio\")\n",
        "plt.show()\n"
      ],
      "metadata": {
        "id": "wsJAKeUokqdN"
      },
      "execution_count": null,
      "outputs": []
    },
    {
      "cell_type": "markdown",
      "source": [
        "3.3 Para cada vivienda, determine [8 puntos]:\n",
        "\n",
        "    La distancia al grifo más cercano (dist_grifo)\n",
        "    La distancia a la vía de acceso más cercana (dist_calle)\n",
        "    Si está o no dentro del TO de la empresa sanitaria (in_TO)\n",
        "    La pendiente del terreno (slope).\n",
        "\n",
        "Para este punto, en las celdas de más abajo se almacenarán en variables los datos solicitados:"
      ],
      "metadata": {
        "id": "bHo2JjHB1R1H"
      }
    },
    {
      "cell_type": "code",
      "source": [
        "# Aquí, usamos GDAL de osgeo, para abrir el raster de elevación (DEM), y\n",
        "# calcular su pendiente, que luego almacenamos en slope_path\n",
        "from osgeo import gdal\n",
        "\n",
        "# Abrimos el DEM con GDAL\n",
        "dem_ds = gdal.Open(dem_path_valpo)\n",
        "\n",
        "# Calculamos la pendiente\n",
        "slope_path = \"slope.tif\"\n",
        "gdal.DEMProcessing(slope_path, dem_ds, \"slope\")\n",
        "\n",
        "print(f\"Raster de pendientes guardado en el archivo: {slope_path}\")"
      ],
      "metadata": {
        "id": "C23cAYuXpFJl"
      },
      "execution_count": null,
      "outputs": []
    },
    {
      "cell_type": "markdown",
      "source": [
        "Ahora, ya tenemos el DEM cargado, recortado al área de estudio, y hemos inalmente generado el raster de pendientes calculado!"
      ],
      "metadata": {
        "id": "qdrIZ_x9qCF1"
      }
    },
    {
      "cell_type": "code",
      "source": [
        "import numpy as np\n",
        "\n",
        "# Revisamos la estructura del GeoDataFrame edificaciones antes de comenzar.\n",
        "print(edificaciones.head())\n",
        "\n",
        "# Cargamos los shapefiles de los grifos y lo pasamos a GeoDataFrame, con el CRS adecuado:\n",
        "grifos = gpd.read_file(\"grifos_nacionales_2022.shp\").to_crs(32719)\n",
        "\n",
        "# Calculamos la distancia al grifo más cercano con una función de orden superior lambda,\n",
        "# y agregamos esa nueva columna al GeoDataFrame posteriormente.\n",
        "dist_grifo_min_values = edificaciones.geometry.apply(lambda x: grifos.geometry.distance(x).min)"
      ],
      "metadata": {
        "id": "6lWErYr5pwbM"
      },
      "execution_count": null,
      "outputs": []
    },
    {
      "cell_type": "markdown",
      "source": [
        "Es importante destacar que en la celda anterior se hizo una suposición importante: se han tomado los grifos nacionales registrados en el año 2022."
      ],
      "metadata": {
        "id": "p2pJW6z5b9KG"
      }
    },
    {
      "cell_type": "markdown",
      "source": [
        "Ahora, calculamos la distancia a la vía de acceso más cercana\\"
      ],
      "metadata": {
        "id": "ZwARDirkrwOZ"
      }
    },
    {
      "cell_type": "code",
      "source": [
        "# Cargar el shapefile de las calles\n",
        "calles_gdf = gpd.read_file(\"Eje_Vial.shp\").to_crs(32719)\n",
        "\n",
        "# Igual que en la celda anterior, calculamos la distancia mínima entre cada edificación y\n",
        "# las calles aledañas o cercanas, para agregar la nueva col \"dist_calle_min\" posteriormente\n",
        "dist_calle_min_values = edificaciones.geometry.apply(lambda x: calles_gdf.geometry.distance(x).min())"
      ],
      "metadata": {
        "id": "hgONZpTyrh2_"
      },
      "execution_count": null,
      "outputs": []
    },
    {
      "cell_type": "markdown",
      "source": [
        "Luego, verificamos si está dentro del Territorio Operacional (TO) de la empresa sanitaria en cuestión."
      ],
      "metadata": {
        "id": "RBS0J-HYtwas"
      }
    },
    {
      "cell_type": "code",
      "source": [
        "# Cargamos el shapefile del TO (Territorio Operacional)\n",
        "to_area = gpd.read_file(\"TO_202312_01032024_v1.shp\").to_crs(32719)\n",
        "\n",
        "# Verificar si cada vivienda está dentro del TO\n",
        "in_to_values = edificaciones.geometry.apply(lambda x: to_area.contains(x).any())"
      ],
      "metadata": {
        "id": "gh2JF5KWt6Y6"
      },
      "execution_count": null,
      "outputs": []
    },
    {
      "cell_type": "markdown",
      "source": [
        "A partir del DEM (raster), calculamos con GDAL las pendientes:"
      ],
      "metadata": {
        "id": "2brAjDKvxLKq"
      }
    },
    {
      "cell_type": "code",
      "source": [
        "from osgeo import gdal\n",
        "\n",
        "# Abrimos el DEM y lo almacenamos en una variable\n",
        "dem_ds = gdal.Open(\"Rocuant.tif\")\n",
        "\n",
        "# Procesamos el raster de las pendientes que anteriormente habíamos guardado en slope_path:\n",
        "gdal.DEMProcessing(slope_path, dem_ds, \"slope\")\n",
        "\n",
        "# Cargamos el raster de las pendientes\n",
        "slope_dataset = gdal.Open(slope_path)\n",
        "slope_array = slope_dataset.ReadAsArray()\n",
        "\n",
        "# Ahora, necesitamos obtener la pendiente para cada vivienda, las que podemos conseguir mediante\n",
        "# las coordenadas de cada vivienda que ya tenemos!\n",
        "\n",
        "# Hay que revisar bien, pero de momento suponemos que las viviendas están bien alineadas con la resolución\n",
        "# del DEM, que puede diferir, como también el sistema de referencia de coordenadas utilizado (CRS)\n",
        "\n",
        "# Obtenemos la información de GeoTransform, que es una tupla con la información para poder\n",
        "# mapear desde pixeles a coordenadas geográficas (proyección).\n",
        "geotransform = slope_dataset.GetGeoTransform()\n",
        "\n",
        "# Obtenemos los valores de la tupla GeoTransform y almacenamos sus valores:\n",
        "top_left_x = slope_dataset.GetGeoTransform()[0]  # Coordenada X de la esquina superior izquierda\n",
        "pixel_width = slope_dataset.GetGeoTransform()[1]  # Ancho de la celda (pxiel)\n",
        "rotation_x = slope_dataset.GetGeoTransform()[2]  # Rotación en la dirección X\n",
        "top_left_y = slope_dataset.GetGeoTransform()[3]  # Coordenada Y de la esquina superior izquierda\n",
        "rotation_y = slope_dataset.GetGeoTransform()[4]  # Rotación en la dirección Y\n",
        "pixel_height = slope_dataset.GetGeoTransform()[5]  # Alto de la celda (pixel)\n",
        "\n",
        "# Imprimimos los valores ordenados de GeoTransform para revisar que todo esté bien:\n",
        "print(\"GeoTransform:\")\n",
        "print(f\"  Coordenada X de la esquina superior izquierda: {top_left_x}\")\n",
        "print(f\"  Coordenada Y de la esquina superior izquierda: {top_left_y}\")\n",
        "\n",
        "# Ya que estamos usando el CRS EPSG:32719, cada pixel tendrá un tamaño en relación\n",
        "# a cada metro (la unidad de ese CRS):\n",
        "print(f\"  Tamaño de la celda (pixel) en la dirección X: {pixel_width}\")\n",
        "print(f\"  Tamaño de la celda (pxiel) en la dirección Y: {pixel_height}\")\n",
        "\n",
        "# Si la rotación es 0, el raster está orientado de forma estándar, sin rotaciones que\n",
        "# puedan complejizar el análisis.\n",
        "print(f\"  Rotación en la dirección X: {rotation_x}\")\n",
        "print(f\"  Rotación en la dirección Y: {rotation_y}\")\n",
        "\n",
        "def get_slope_vivienda(vivienda_geometry):\n",
        "    centroid = vivienda_geometry.centroid # Obtener el centroide de la vivienda\n",
        "    x_centroid_vivienda, y_centroid_vivienda = centroid.x, centroid.y\n",
        "\n",
        "    # Calculo para la columna (col) y la fila (row) con los datos obtenidos del raster,\n",
        "    # esto no siempre es necesario, pero aquí sirve para centrar y acomodar.\n",
        "    col = int((x_centroid_vivienda - top_left_x) / pixel_width)\n",
        "    row = int((y_centroid_vivienda - top_left_y) / pixel_height)\n",
        "\n",
        "    # Nos aseguramosl que las coordenadas estén dentro del rango válido de filas y columnas\n",
        "    # Sin estas lineas con numpy, me daba un IndexError\n",
        "    row = np.clip(row, 0, slope_array.shape[0] - 1)\n",
        "    col = np.clip(col, 0, slope_array.shape[1] - 1)\n",
        "\n",
        "    # Devolver la pendiente en esa celda\n",
        "    return slope_array[row, col]\n",
        "\n",
        "# Calculamos la pendiente para cada vivienda, aplicando la función\n",
        "# get_slope_vivienda para cada vivienda del GeoDataFrame edificaciones,\n",
        "# agregando la nueva columna llamada \"slope\", para la pendiente (esta columna)\n",
        "# se agregará al final, en una celda aparte.\n"
      ],
      "metadata": {
        "id": "pE2b1OZAxia5"
      },
      "execution_count": null,
      "outputs": []
    },
    {
      "cell_type": "markdown",
      "source": [
        "Agregue cada una de estas variables como una columna adicional al GeoDataFrame creado a partir de Edificaciones.shp :"
      ],
      "metadata": {
        "id": "ml7OQJZV1rys"
      }
    },
    {
      "cell_type": "code",
      "source": [
        "# Con las variables calculadas y obtenidas más arriba, las agregamos como una nueva\n",
        "# columna adicional al GeoDataFrame, como se indica en el enunciado:\n",
        "\n",
        "edificaciones['in_TO'] = in_to_values\n",
        "edificaciones['dist_calle_min'] = dist_calle_min_values\n",
        "edificaciones['dist_grifo_min'] = dist_grifo_min_values\n",
        "\n",
        "#Aquí agregamos la pendiente aplicando la función para cada edificación:\n",
        "edificaciones['slope'] = edificaciones.geometry.apply(get_slope_vivienda)\n",
        "\n",
        "# Revisamos que se hayan agregado las columnas al GDF:\n",
        "print(edificaciones.head())"
      ],
      "metadata": {
        "id": "diW42XoSxG2c"
      },
      "execution_count": null,
      "outputs": []
    },
    {
      "cell_type": "code",
      "source": [],
      "metadata": {
        "id": "GhOovzvj13oB"
      },
      "execution_count": null,
      "outputs": []
    },
    {
      "cell_type": "markdown",
      "source": [
        "3.5 Utilizando todos los conjuntos de datos indicados en el punto 2, genere una única figura que incluya [6pts]:\n",
        "\n",
        "    La imagen RGB de base.\n",
        "    Las viviendas ubicadas en la zona de estudio, diferenciando con colores las viviendas con daño Total, Parcial o sin daño.\n",
        "    Las calles.\n",
        "    Los grifos.\n",
        "    El territorio operacional.\n",
        "\n",
        "Utilice buenas prácticas de gráficos como: etiquetas de ejes, título, leyenda, límites adecuados para ejes, etc."
      ],
      "metadata": {
        "id": "eb5bX68_4tkv"
      }
    },
    {
      "cell_type": "code",
      "source": [
        "!pip install rioxarray"
      ],
      "metadata": {
        "id": "hH8Xt1sPAaab"
      },
      "execution_count": null,
      "outputs": []
    },
    {
      "cell_type": "code",
      "source": [
        "import matplotlib.pyplot as plt\n",
        "import rioxarray\n",
        "import xarray as xr\n",
        "\n",
        "# Definir las rutas de las imágenes\n",
        "Rocuant_RGB_1 = 'Rocuant.tif'\n",
        "Rocuant_RGB_2 = 'Rocuant2.tif'\n",
        "\n",
        "# Abrir las imágenes utilizando rioxarray\n",
        "rgb1 = rioxarray.open_rasterio(Rocuant_RGB_1)\n",
        "rgb2 = rioxarray.open_rasterio(Rocuant_RGB_2)\n",
        "\n",
        "# Crear una figura\n",
        "fig = plt.figure(figsize=(12, 12))\n",
        "ax = fig.add_subplot(111)\n",
        "\n",
        "# Representar la primera imagen\n",
        "rgb1.squeeze().plot.imshow(ax=ax, alpha=1)\n",
        "\n",
        "# Superponer la segunda imagen con transparencia\n",
        "rgb2.squeeze().plot.imshow(ax=ax, alpha=1)\n",
        "\n",
        "# Añadir título y etiquetas\n",
        "ax.set_title('Imágenes RGB del Incendio dadas en el enunciado')\n",
        "ax.set_xlabel('Coordenadas Este (eje x)')\n",
        "ax.set_ylabel('Coordenadas Norte (eje y)')\n",
        "\n",
        "# Mostrar la figura\n",
        "plt.show()"
      ],
      "metadata": {
        "id": "MFPfJwMrAVT0"
      },
      "execution_count": null,
      "outputs": []
    },
    {
      "cell_type": "code",
      "source": [
        "import matplotlib.pyplot as plt\n",
        "import rioxarray\n",
        "import matplotlib.patches as mpatches  # Lo usaremos para las áreas.\n",
        "from matplotlib.lines import Line2D  # Lineas para la leyenda mostrada al final.\n",
        "\n",
        "# Abrimos las imágenes RGB utilizando rioxarray\n",
        "rgb1 = rioxarray.open_rasterio(Rocuant_RGB_1)\n",
        "rgb2 = rioxarray.open_rasterio(Rocuant_RGB_2)\n",
        "\n",
        "viviendas_gdf = edificaciones\n",
        "\n",
        "# Hacemos un polígono que recorte!\n",
        "total_bounds = viviendas_gdf.union_all().envelope\n",
        "\n",
        "grifos_gdf = grifos.clip(total_bounds)\n",
        "territorio_operacional_gdf = to_area.clip(total_bounds)\n",
        "calles_gdf = calles_gdf.clip(total_bounds)\n",
        "\n",
        "# Creamos una columna de colores para las viviendas según su daño\n",
        "viviendas_gdf['color_dano'] = viviendas_gdf['N_daño'].map({\n",
        "    'Total': 'red',  # Daño total: color rojo\n",
        "    'Parcial': 'violet',  # Daño parcial: color naranja\n",
        "    'Ninguno': 'green'  # Sin daño: color verde\n",
        "})\n",
        "\n",
        "# Figura\n",
        "fig, ax = plt.subplots(figsize=(10, 10))\n",
        "\n",
        "# Mostrar la imagen RGB de base con ambas imágenes\n",
        "grb1_plot = rgb1.squeeze().plot.imshow(ax=ax, alpha=0.5)\n",
        "grb2_plot = rgb2.squeeze().plot.imshow(ax=ax, alpha=0.5)\n",
        "\n",
        "# Dibujar las viviendas\n",
        "grifos_gdf.plot(ax=ax, markersize=10, color='blue', marker='*')\n",
        "viviendas_gdf.plot(ax=ax, color=viviendas_gdf['color_dano'], markersize=10)\n",
        "calles_gdf.plot(ax=ax, color='cyan')\n",
        "territorio_operacional_gdf.boundary.plot(ax=ax, color='blue', lw=1)\n",
        "\n",
        "# Etiquetas y título\n",
        "ax.set_title('Mapa de Daños y Elementos en la Zona de Estudio')\n",
        "ax.set_xlabel('Coordenadas Este (X)')\n",
        "ax.set_ylabel('Coordenadas Norte (Y)')\n",
        "\n",
        "# Creamos las entradas del gráfico\n",
        "handles = [\n",
        "    mpatches.Patch(color='red', label='Daño Total'),\n",
        "    mpatches.Patch(color='violet', label='Daño Parcial'),\n",
        "    mpatches.Patch(color='green', label='Sin Daño'),\n",
        "    Line2D([0], [0], color='cyan', lw=2, label='Calles'),\n",
        "    Line2D([0], [0], color='blue', marker='*', markersize=10, linestyle='None', label='Grifos'),\n",
        "    Line2D([0], [0], color='blue', lw=1, label='Territorio Operacional')\n",
        "]\n",
        "\n",
        "# Leyendas\n",
        "ax.legend(handles=handles)\n",
        "\n",
        "plt.show()\n"
      ],
      "metadata": {
        "id": "YfozPJsX4vhs"
      },
      "execution_count": null,
      "outputs": []
    },
    {
      "cell_type": "markdown",
      "source": [
        "3.6 Analice y comente: ¿identifica alguna relación entre la ubicación de las viviendas quemadas, y su posición relativa a grifos, redes de agua y vías de acceso? Genere uno o más gráficos simples (por ejemplo, gráficos de barras o dispersión) que soporten su análisis [4pts].\n",
        "\n",
        "Parece ser que el incendio se propagó rápido o sin ser tan determinado por las vías de acceso y la cercanía a grifos, porque hay una gran cantidad de viviendas muy cerca de vías de acceso y grifos que resultaron afectadas. Sin embargo, esto no indica mucho por sí mismo.\n",
        "\n",
        "Los gráficos y el análisis más completo que apoyan este punto están más abajo."
      ],
      "metadata": {
        "id": "zJArRGol_uyB"
      }
    },
    {
      "cell_type": "code",
      "source": [
        "import matplotlib.pyplot as plt\n",
        "import rioxarray\n",
        "import geopandas as gpd\n",
        "import seaborn as sns\n",
        "import numpy as np\n",
        "from shapely.ops import nearest_points\n",
        "\n",
        "# Cargamos las imágenes con rioxarray, en variables.\n",
        "rgb1 = rioxarray.open_rasterio(Rocuant_RGB_1)\n",
        "rgb2 = rioxarray.open_rasterio(Rocuant_RGB_2)\n",
        "\n",
        "# Recorte de las capas para que solo se muestren en el área de las viviendas\n",
        "total_bounds = viviendas_gdf.union_all().envelope\n",
        "grifos_gdf = grifos_gdf.clip(total_bounds)\n",
        "calles_gdf = calles_gdf.clip(total_bounds)\n",
        "\n",
        "# Creamos columnas con colores segun el daño de cada vivienda, para luego\n",
        "# usarlos en la gráfica:\n",
        "viviendas_gdf['color_dano'] = viviendas_gdf['N_daño'].map({\n",
        "    'Total': 'red',  # Daño total: color rojo\n",
        "    'Parcial': 'violet',  # Daño parcial: color naranja\n",
        "    'Ninguno': 'green'  # Sin daño: color verde\n",
        "})\n",
        "\n",
        "# Definir una función para calcular la distancia más cercana\n",
        "def calcular_distancia_cercana(vivienda, puntos_geometria):\n",
        "    nearest_geom = nearest_points(vivienda, puntos_geometria)\n",
        "    return vivienda.distance(nearest_geom[1])\n",
        "\n",
        "# Calcular la distancia de cada vivienda a los grifos y las vías\n",
        "grifos_geom = grifos_gdf.geometry.union_all()  # Unificamos la geometría de los grifos\n",
        "calles_geom = calles_gdf.geometry.union_all()  # Unificamos la geometría de las calles\n",
        "\n",
        "# Lo calculamos nuevamente por facilidad, aunque incluya mayor cómputo\n",
        "viviendas_gdf['distancia_grifo'] = viviendas_gdf.geometry.apply(lambda x: calcular_distancia_cercana(x, grifos_geom))\n",
        "viviendas_gdf['distancia_via'] = viviendas_gdf.geometry.apply(lambda x: calcular_distancia_cercana(x, calles_geom))\n",
        "\n",
        "# Histograma de distancias a los grifos con seaborn\n",
        "plt.figure(figsize=(10, 6))\n",
        "sns.histplot(viviendas_gdf['distancia_grifo'], kde=True, color='red', bins=30)\n",
        "plt.title('Distribución de las Distancias a los Grifos')\n",
        "plt.xlabel('Distancia a los Grifos (m)')\n",
        "plt.ylabel('Número de Viviendas')\n",
        "plt.show()\n",
        "\n",
        "# Histograma de distancias a las vías de acceso con seabor\n",
        "plt.figure(figsize=(10, 6))\n",
        "sns.histplot(viviendas_gdf['distancia_via'], kde=True, color='cyan', bins=30)\n",
        "plt.title('Distribución de las Distancias a las Vías de Acceso')\n",
        "plt.xlabel('Distancia a las Vías de Acceso (m)')\n",
        "plt.ylabel('Número de Viviendas')\n",
        "plt.show()\n",
        "\n",
        "# Gráfico de dispersión de distancias a las vías - distancias a los grifos\n",
        "plt.figure(figsize=(10, 6))\n",
        "\n",
        "# Usamos los colores correspondientes según el daño\n",
        "# aplicando los colores a  la leyenda\n",
        "sns.scatterplot(x=viviendas_gdf['distancia_via'], y=viviendas_gdf['distancia_grifo'],\n",
        "                hue=viviendas_gdf['color_dano'],\n",
        "                palette={'red': 'red', 'violet': 'violet', 'green': 'green'},\n",
        "                alpha=0.65, legend=False) #False para personalizarn nuestra leyenda\n",
        "\n",
        "# Títulos y etiquetas\n",
        "plt.title('Distancias a Vías vs. Distancias a Grifos')\n",
        "plt.xlabel('Distancia a las Vías de Acceso (m)')\n",
        "plt.ylabel('Distancia a los Grifos (m)')\n",
        "\n",
        "# Creaamos las leyendas del gráfico:\n",
        "import matplotlib.patches as mpatches\n",
        "red_patch = mpatches.Patch(color='red', label='Daño Total')\n",
        "violet_patch = mpatches.Patch(color='violet', label='Daño Parcial')\n",
        "green_patch = mpatches.Patch(color='green', label='Sin Daño')\n",
        "\n",
        "plt.legend(handles=[red_patch, violet_patch, green_patch], title='Nivel de Daño')\n",
        "\n",
        "plt.show()\n"
      ],
      "metadata": {
        "id": "iXjWjL7_I2Dj"
      },
      "execution_count": null,
      "outputs": []
    },
    {
      "cell_type": "markdown",
      "source": [
        "### 3.7 Analice la ubicación de las viviendas afectadas por el incendio: ¿serán viviendas formales, o zonas de ocupación informal?\n",
        "* Plantee y explique (en palabras) un método de análisis espacial que permita determinar tentativamente si una vivienda fue contruida formal o informalmente (es decir, sin permisos legales, o sin estar registrada por las autoridades). En caso de requerir otros conjuntos de datos, explique y obtengalos si es posible de alguna fuente oficial.\n",
        "* Aplique su método de análisis a las zonas afectadas por los incendios de Valparaíso, y\n",
        "*\n",
        "\n",
        "Como método de análisis espacial para determinar tentativamente si una vivienda es informal o no, podemos utilizar los límites entregados el Territorio Operacional (TO), visualmente en la imagen construida arriba podemos ver las viviendas que están fuera del TO, pero también podemos mostrarlas recorriendo las el GeoDataFrame de viviendas.\n",
        "\n",
        "Luego, en el último asterisco de 3.7, como parece estar el enunciado incompleto, interpreté como pude este último punto:\n",
        "\n",
        "Aplicamos el método de análisis mencionado previamente:"
      ],
      "metadata": {
        "id": "8yZgtanp_te5"
      }
    },
    {
      "cell_type": "code",
      "source": [
        "import pandas as pd\n",
        "\n",
        "# Filtramos las viviendas afectadas total y parcialmente:\n",
        "viviendas_afectadas = viviendas_gdf[viviendas_gdf['N_daño'].isin(['Total', 'Parcial'])].copy()\n",
        "\n",
        "# Usamos .loc[] para evitar el error SettingWithCopyWarning\n",
        "viviendas_afectadas.loc[:, 'dist_calle_min'] = pd.to_numeric(viviendas_afectadas['dist_calle_min'], errors='coerce')\n",
        "viviendas_afectadas.loc[:, 'dist_grifo_min'] = pd.to_numeric(viviendas_afectadas['dist_grifo_min'], errors='coerce')\n",
        "\n",
        "# Contamos las viviendas afectadas dentro y fuera del Territorio operacional:\n",
        "conteo = viviendas_afectadas.groupby('in_TO')['OBJECTID'].count()\n",
        "\n",
        "# Calcular porcentajes\n",
        "total_viviendas_afectadas = viviendas_afectadas.shape[0]\n",
        "porcentajes = (conteo / total_viviendas_afectadas) * 100\n",
        "\n",
        "# Crear tabla resumen\n",
        "tabla_resumen = pd.DataFrame({\n",
        "    'Viviendas Afectadas en total': conteo,\n",
        "    'Porcentaje de viviendas afectadas': porcentajes,\n",
        "    'Distancia Promedio a Calle': viviendas_afectadas.groupby('in_TO')['dist_calle_min'].mean(),\n",
        "    'Distancia Promedio a Grifo': viviendas_afectadas.groupby('in_TO')['dist_grifo_min'].mean(),\n",
        "})\n",
        "\n",
        "# Ploteamos la visualización\n",
        "plt.figure(figsize=(9, 5))\n",
        "\n",
        "# Graficamos las columnas:\n",
        "tabla_resumen.plot(kind='bar', ax=plt.gca(), colormap='viridis')\n",
        "\n",
        "plt.title('Viviendas Afectadas')\n",
        "plt.xlabel('Vivienda pertenece al TO? No / Sí')\n",
        "plt.ylabel('Valores')\n",
        "\n",
        "plt.show()\n"
      ],
      "metadata": {
        "id": "ad1Za76P5tdj"
      },
      "execution_count": null,
      "outputs": []
    },
    {
      "cell_type": "code",
      "source": [
        "# Creamos un nuevo dataframe para mostrarlo>\n",
        "tabla_resumen = pd.DataFrame({\n",
        "    'Viviendas Afectadas en total': conteo,\n",
        "    'Porcentaje de viviendas afectadas': porcentajes\n",
        "})\n",
        "\n",
        "print(\"\\nResumen de Viviendas Afectadas dentro del TO:\\n\")\n",
        "print(tabla_resumen,'\\n\\n')\n",
        "\n",
        "# Contamos las viviendas dentro y fuera del TO\n",
        "conteo_TO = viviendas_gdf['in_TO'].value_counts()\n",
        "\n",
        "print(f\"\\nConteo de Viviendas dentro y fuera del Territorio Operacional (TO):\\n\")\n",
        "print(f\"Viviendas dentro del TO: {conteo_TO.get(True, 'Error')}\")\n",
        "print(f\"Viviendas fuera del TO: {conteo_TO.get(False, 'Error')}\")"
      ],
      "metadata": {
        "id": "Rj9NxERSDp06"
      },
      "execution_count": null,
      "outputs": []
    },
    {
      "cell_type": "markdown",
      "source": [
        "Como vemos, gran parte de las viviendas afectadas (total o parcialmente) pertenecen al territorio operacional, lo que no indica que dichas viviendas tengan mayor riesgo por el hecho de pertenecer, ya que la cantidad de viviendas pertenecientes al TO es mucho mayor (más del doble), como se puede apreciar arriba. Lo que sí podemos ver claramente es que la distancia de las viviendas fuera del TO a los grifos es, en promedio, mucho mayor, lo que claramente es un factor de riesgo ante este tipo de catástrofes.\n",
        "\n",
        "Aquí, para un análisis más profundo, se deberían considerar todos los datos, como por ejemplo; si las viviendas estaban muy juntas entre ellas (esto ayuda a la propagación del fuego), el material de construcción, la pendiente del terreno, la orientación de las viviendas, entre muchos otros parámetros, pero todo este análisis mayor escapa a esta tarea."
      ],
      "metadata": {
        "id": "sRJIU2XN_cz9"
      }
    },
    {
      "cell_type": "markdown",
      "source": [
        "Referencias: para esta tarea, se han utilizado como referencia los códigos de las ayudantías, de este año y de Canvas del año pasado, pero mayormente el código ya entregado en parte por el enunciado de la tarea.\n",
        "\n",
        "He tomado ejemplos de la documentación de oficial de seaborn y matplotlib para las gráficas y leyendas.\n",
        "\n",
        "Para agilizar el cálculo de los porcentajes de la última y penúltima celda, se utilizó ChatGPT, lo mismo con la implementación de la linea .loc[] para evitar el error SettingWithCopyWarning."
      ],
      "metadata": {
        "id": "I6TjQp9B3npg"
      }
    }
  ]
}