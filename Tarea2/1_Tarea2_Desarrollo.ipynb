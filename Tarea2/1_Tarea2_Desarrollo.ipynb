{
  "cells": [
    {
      "cell_type": "markdown",
      "metadata": {
        "id": "wU0ZLFtH38pJ"
      },
      "source": [
        "<h1><center>IMT2118 - Ciencia de Datos Geoespaciales</center></h1>\n",
        "<h2><center>Tarea 2: Monitoreo del Crecimiento Urbano Mediante Percepción Remota </center></h2>\n",
        "\n",
        "\n",
        "\n",
        "<div class=\"alert alert-block alert-info\">\n",
        "\n",
        "## Instrucciones generales.\n",
        "\n",
        "&#128467; **Fecha de entrega:** domingo 27 de abril de 2025, 23:59. <br>\n",
        "\n",
        "&#128236; **Entrega:** A través de Canvas, adjunte todos los archivos necesarios para ejecutar su código dentro de una única carpeta comprimida (.zip). Incluya el  Jupyter Notebook con el desarrollo (puede utilizar este mismo notebook), y las capas o archivos vectoriales que haya generado como parte de su análisis. El objetivo es que **el Notebook pueda correr completamente dentro de la carpeta entregada**. Si el archivo compromido supera el tamaño máximo permitido por Canvas, puede enviar un link de descarga. <br>\n",
        "    \n",
        "\n",
        "&#128013; La Tarea debe ser desarrollada en lenguaje de programación Python.\n",
        "\n",
        "&#11088; En el Notebook, incluya texto explicando los pasos u operaciones desarrolladas, no sólo el código. El objetivo es que el Notebook siga un hilo narrativo, sea claro y atractivo de leer. En [este link](https://github.com/brad-do/nb-miscellany/blob/master/things_to_do_in_markdown.ipynb) puede encontrar algunos tips útiles para usar celdas de anotaciones o Markdown. <br>\n",
        "\n",
        "\n",
        "&#128519; El trabajo es **invididual**, y debe seguir todos los lineamientos de integridad académica del curso. Recuerde referenciar apropiadamente todas las referencias, códigos y datos consultados para el desarrollo de su tarea.<br>\n",
        "\n",
        "&#128064; Lea cuidadosamente el enunciado.\n",
        "    \n",
        "&#10067;  Se sugiere hacer consultas y comentarios sobre la Tarea a traves del Foro del curso creado en Canvas.\n",
        "\n",
        "</div>\n",
        "\n",
        "#### Profesora: Paula Aguirre A, 2025-1."
      ]
    },
    {
      "cell_type": "markdown",
      "metadata": {
        "id": "ajBZkrI538pN"
      },
      "source": [
        "## 1. Introducción.\n",
        "\n",
        "La velocidad a la cual crecen las ciudades, o *tasa de urbanización*, es un importante indicador de la sustentabilidad de pueblos y ciudades. Una urbanización rápida y desorganizada puede conducir a una saturación y sobrecarga de la infraestructura pública y servicios básicos como salud, educación y transporte, lo cual conlleva a su vez pobres resultados sociales, económicos y ambientales.\n",
        "\n",
        "El primer requisito para abordar los impactos de la urbanización acelerada es implementar un monitoreo regular de la extensión urbana. Los datasets globales de observación terrestre proveen un medio preciso y costo-efectivo para realizar esta tarea.\n"
      ]
    },
    {
      "cell_type": "markdown",
      "metadata": {
        "id": "s1SIMs6d38pP"
      },
      "source": [
        "## 2. Datos.\n",
        "\n",
        "Para este problema, deberá trabajar con el catálogo de datos de Google Earth Engine. Para el punto *3.9*, ud. deberá seleccionar y obtener datos vectoriales complementarios.\n",
        "\n",
        "\n",
        "\n"
      ]
    },
    {
      "cell_type": "markdown",
      "metadata": {
        "id": "VN70tYQt38pP"
      },
      "source": [
        "## 3. Problemas.\n",
        "\n",
        "Para esta tarea, ud. definirá la zona de estudio. Elija y declare una ciudad de Chile de su preferencia, **excepto Santiago**.\n",
        "\n",
        "### 3.1 Utilizando datos de Sentinel 2, genere las geomedianas anuales de su zona de estudio desde el año 2000 a 2025 (3 ptos)\n",
        "\n",
        "### 3.2 Genere un split map o timelapse con la imagen (geomediana) RGB de la ciudad estudiada, para el primer y último año analizados. Comente: ¿qué cambios puede apreciar en la zona urbana? (1 pto)\n",
        "\n",
        "### 3.3 Investigue sobre índices espectrales que permitan identificar y seleccionar áreas construidas o urbanizadas (1 pto)\n",
        "- Escoja un índice que pueda ser calculado con las imágenes seleccionadas en el punto 3.1. Incluya sus fuentes y referencias.\n",
        "- Escriba un breve párrafo con la definición y justificación de dicho índice, y especifique claramente la fórmula de cálculo.\n",
        "\n",
        "**Nota:**  De aquí en adelante, nos referiremos a este índice como **IAU** (Índice de Área Urbana).\n",
        "\n",
        "### 3.4 Calcule el IAU para la geomediana de cada año, y genere un mapa o animación que permita visualizar la evolución de la extensión urbana como función del tiempo (2 ptos)\n",
        "- Incluya en su mapa la cartografía del censo 2017. En particular, puede utilizar los polígonos de las zonas urbanas.\n",
        "\n",
        "### 3.5 Calcule para cada año la superficie urbana (en km^2), y grafique como serie de tiempo (1 pto)\n",
        "\n",
        "### 3.6 En base al índice calculado, identifique (si existen) aquellas zonas de crecimiento urbano exagerado o \"hot spots\", y también zonas de declive urbano o \"cold spots\". Explique claramente cómo identificó estas zonas (1 pto)\n",
        "\n",
        "---\n",
        " A nivel global, existen varios proyectos orientados a mapear los asentamientos humanos en base a percepción remota, como por ejemplo *The Global Human Settlement Layer*. Éste es un proyecto de la Comisión Europea que crea datos geográficos globales sobre la evolución de la ocupación humana en la Tierra, en forma de mapas de densidad de población, mapas de urbanización y mapas de asentamientos. Este producto se encuentra disponible en GEE, y está descrito en el siguiente link:\n",
        "\n",
        " https://developers.google.com/earth-engine/datasets/catalog/JRC_GHSL_P2023A_GHS_BUILT_C#description\n",
        "\n",
        "\n",
        "### 3.7 Considere ahora solamente el año 2020. Para este año, obtenga los datos de GHSL, y compare con el raster de área urbana generado a partir del IAU (2 ptos)\n",
        "- Genere un splitmap con ambos raster, y explique las similitudes y diferencias que idnetifica entre ambas capas de información.\n",
        "- Evalúe las diferencias en términos de área  y geometría de la extensión urbana (intersección / diferencia)\n",
        "\n",
        "\n",
        "### 3.8 Otro forma de monitorear el crecimiento urbano, es mediante capas de capas de clasificación de usos de suelo, o LULC (land use/land cover). Un ejemplo reciente de este tipo de datos es el dataset Dynamic World: https://dynamicworld.app/ (2 ptos)\n",
        "- Identifique uno (o más) puntos de la ciudad identificados previamente en el punto 3.6 como zonas de crecimiento o declive urbano.\n",
        "- Para estos mismos puntos, genere series de tiempo con la probabilidad de clases de uso de suelo en base al dataset Dynamic World.\n",
        "- Analice la serie de tiempo y comente: ¿son coherentes los resultados con su análisis previo en base al IAU?\n",
        "\n",
        "### 3.9 Finalmente, muchas veces constatamos que la urbanización ocurre en forma más acelerada que el desarrollo de infraestructura pública y servicios urbanos básicos como educación, salud, agua potable, transporte público, etc., lo cual conlleva problemas de calidad de vida y desigualdad socioeconómica, entre otros. ¿Es este el caso de su ciudad de estudio? (3 ptos)\n",
        "- Seleccione **dos** tipos de infraestructura o servicios a analizar, como por ejemplo: escuelas, hospitales, transporte público, redes de agua potable, redes de electricidad, etc. (puede sugerir otras).\n",
        "- Para dichos servicios, busque y obtenga datos georreferenciados que le permitan analizar su evolución temporal desde el año 2000 (o algún año posterior) hasta el 2022. Especifique claramente los datos utilizados y su fuente.\n",
        "- Analice estos datos en conjunto con su análisis previo del IAU. ¿Puede identificar si hay coherencia entre las zonas de mayor crecimiento urbano, y el desarrollo de servicios urbanos? ¿Hay un desfase temporal entre la urbanización, y la expansión de la infraestructura urbana básica? Comente en base a sus resultados.\n",
        "\n",
        "*Algunas plataformas de utilidad:*\n",
        "- DEIS MINSAL: https://deis.minsal.cl/\n",
        "- MINEDUC : https://datosabiertos.mineduc.cl/\n",
        "- SECTRA: https://www.sectra.gob.cl/datos_informacion_espacial/datos_informacion_espacial.htm\n",
        "- SISS: https://www.siss.gob.cl/586/w3-propertyvalue-6323.html\n",
        "- Geoportal MINVU: https://ide.minvu.cl/\n",
        "\n",
        "\n",
        "\n"
      ]
    },
    {
      "cell_type": "markdown",
      "metadata": {
        "id": "BQyK21ZiFO_Q"
      },
      "source": []
    },
    {
      "cell_type": "markdown",
      "metadata": {
        "id": "QHK0h_JaCboB"
      },
      "source": [
        "Para esta tarea, ud. definirá la zona de estudio. Elija y declare una ciudad de Chile de su preferencia, excepto Santiago.\n",
        "\n",
        "3.1 Utilizando datos de Sentinel 2, genere las geomedianas anuales de su zona de estudio desde el año 2015 a 2025 (3 ptos)"
      ]
    },
    {
      "cell_type": "markdown",
      "source": [
        "# Esta tarea la he realizado en [Google Colab](colab.research.google.com), sólo es necesario subir los archivos necesarios a Google Colab, pero de todas formas las rutas están especificadas en las celdas posteriores, en caso de ejecutarse en otro entorno."
      ],
      "metadata": {
        "id": "DDDFLpl6Caj3"
      }
    },
    {
      "cell_type": "markdown",
      "source": [
        "Antes que nada, por favor considerar que en todas las representaciones visuales, los mapas tienen layers que pueden ser molestos en la correcta visualización, no he agregado opacidad directamente a todas las layers, porque se pueden desactivar manualmente en la interacción con el mapa, así que en teoría no deberían haber problemas en este aspecto. Gracias."
      ],
      "metadata": {
        "id": "F4KRzErzgtGA"
      }
    },
    {
      "cell_type": "code",
      "source": [
        "#!pip uninstall earthengine-api -y\n",
        "#!pip install earthengine-api==0.1.341 geemap --upgrade"
      ],
      "metadata": {
        "id": "M51hZd9kTMQD"
      },
      "execution_count": null,
      "outputs": []
    },
    {
      "cell_type": "code",
      "execution_count": null,
      "metadata": {
        "id": "m9siNazi38pQ"
      },
      "outputs": [],
      "source": [
        "import geemap,ee\n",
        "ee.Authenticate()\n",
        "ee.Initialize(project='ee-aesmatias')\n",
        "#Aqui, por google colab no tuve que usar un token ni nada, pero se requiere autenticacion"
      ]
    },
    {
      "cell_type": "markdown",
      "metadata": {
        "id": "9-je2EvgINtq"
      },
      "source": [
        "Usamos la API de Google MAPS"
      ]
    },
    {
      "cell_type": "code",
      "execution_count": null,
      "metadata": {
        "id": "pGUcfsIPIMz3"
      },
      "outputs": [],
      "source": [
        "#import os\n",
        "#os.environ['GOOGLE_MAPS_API_KEY'] = 'TOKEN'"
      ]
    },
    {
      "cell_type": "markdown",
      "metadata": {
        "id": "yne89hDRIl6g"
      },
      "source": [
        "Cargamos el shapefile del TO correspondiente a la ciudad de Los Ángeles, de la región del Biobío (VIII), con geopandas. Este shapefile se obtuvo de https://sit.siss.gob.cl/ mediante la herramienta \"Descarga de datos\".\n",
        "\n",
        "\n",
        "Luego, para transformar el tipo de dato desde GeoDataFrame hacia FeatureCollection, compatible con GEE, se utilizó el método de la documentación: https://geopandas.org/en/stable/docs/reference/api/geopandas.GeoDataFrame.__geo_interface__.html"
      ]
    },
    {
      "cell_type": "code",
      "execution_count": null,
      "metadata": {
        "id": "ZJ5F3cq3Ce9X"
      },
      "outputs": [],
      "source": [
        "import geopandas as gpd\n",
        "\n",
        "# Cargamos el shapefile con geopandas\n",
        "shapefile_path = '/content/cubierta_interseccion_222591.shp'\n",
        "gdf = gpd.read_file(shapefile_path).to_crs(epsg=4326) #Lo pasamos a EPSG:4326, compatible con GEE\n",
        "\n",
        "# Convertimos el GDF a una FeatureCollection de GEE,\n",
        "# esto permitirá trabajarlo con el motor de google posteriormente.\n",
        "features = ee.FeatureCollection(gdf.__geo_interface__['features'])\n",
        "\n",
        "gdf.head()  #Comprobamos que se hayan cargado los datos bien"
      ]
    },
    {
      "cell_type": "code",
      "source": [
        "#Ignorar esta celda\n",
        "#from google.colab import drive\n",
        "#drive.mount('/content/drive')"
      ],
      "metadata": {
        "id": "F8Bfh4bRHY5O"
      },
      "execution_count": null,
      "outputs": []
    },
    {
      "cell_type": "code",
      "source": [
        "#Ignorar esta celda\n",
        "'''\n",
        "CONCEPCIOOOOOOOOOOOOOOOOOOOOOOOOOOOOOOOOOOOOOOOOOOOOOOOOOOOOOON\n",
        "import zipfile\n",
        "import os\n",
        "\n",
        "import geopandas as gpd\n",
        "\n",
        "# Buscar el archivo KML en la carpeta extraída\n",
        "kml_file_path = '/content/descarga_kmz_13-04-2025_03_19_04.kml'\n",
        "\n",
        "# Leemos el archivo KML con Geopandas\n",
        "gdf = gpd.read_file(kml_file_path).to_crs(epsg=4326)  # Convertimos a EPSG:4326 para compatibilidad con gee\n",
        "\n",
        "# Convertimos el GDF a una FeatureCollection de GEE\n",
        "features = ee.FeatureCollection(gdf.__geo_interface__['features'])\n",
        "\n",
        "# Verificamoss\n",
        "print(features.getInfo())\n",
        "'''"
      ],
      "metadata": {
        "id": "uV3uF94dBZlH"
      },
      "execution_count": null,
      "outputs": []
    },
    {
      "cell_type": "markdown",
      "metadata": {
        "id": "eL_xHeo4M68E"
      },
      "source": [
        "Aquí, usamos el código del control 2 para poder calcular los límites (bounds) que se utilizarán en el FeatureCollection del GEE."
      ]
    },
    {
      "cell_type": "code",
      "execution_count": null,
      "metadata": {
        "id": "rAH8qsUwMzzA"
      },
      "outputs": [],
      "source": [
        "from shapely.geometry import Polygon\n",
        "# Este codigo es del control 2\n",
        "# Obtenemmos los límites del shapefile (bounding box)\n",
        "minx, miny, maxx, maxy = gdf.total_bounds\n",
        "\n",
        "# Definimos las coordenadas del bounding box\n",
        "xy = [[minx, miny], [maxx, miny], [maxx, maxy], [minx, maxy]]\n",
        "\n",
        "aoi = Polygon(xy)\n",
        "\n",
        "# pasamos el área de interés (AOI) a ee.Geometry para trabajar con GEE y no tener errores\n",
        "aoi_ee = ee.Geometry.Polygon(list(aoi.exterior.coords))\n",
        "\n",
        "print(aoi_ee.getInfo()) # verificamos"
      ]
    },
    {
      "cell_type": "code",
      "execution_count": null,
      "metadata": {
        "id": "4h_xoqbGPcDU"
      },
      "outputs": [],
      "source": [
        "# Suponiendo que tenemos un FeatureCollection (features) y un ImageCollection (collection)\n",
        "collection = ee.ImageCollection('COPERNICUS/S2_SR_HARMONIZED') \\\n",
        "    .filterBounds(aoi_ee)  # Filtramos la colección de imágenes por los límites de la AOI"
      ]
    },
    {
      "cell_type": "code",
      "execution_count": null,
      "metadata": {
        "id": "17iqovIvIEew"
      },
      "outputs": [],
      "source": [
        "startDateString = \"2019-12-20\";\n",
        "endDateString = \"2019-12-25\" ;\n",
        "startDate = ee.Date(startDateString)\n",
        "endDate = ee.Date(endDateString)\n",
        "\n",
        "image_pre = collection.filterDate(startDate, startDate.advance(1, 'day'))\n",
        "image_post = collection.filterDate(endDate, endDate.advance(1,'day'))\n",
        "\n",
        "# Obtenemos bandas de la primera imagen de image_pre para probar\n",
        "bandas_pre = image_pre.first().bandNames().getInfo()\n",
        "print(\"Bandas disponibles en image_pre:\", bandas_pre)\n",
        "\n",
        "\n",
        "# Mostramos la info de las img.\n",
        "print(image_pre.first().getInfo())\n",
        "print(image_post.getInfo())\n",
        "\n",
        "Map = geemap.Map()\n",
        "\n",
        "# Añadimos la imagen previa y posterior,\n",
        "# pero seleccionamos solo la primer imagen encontrada en cada caso al Map Layer con .first()\n",
        "# Aquí, bands recibe tres argumentos en una lista, para asignar respectivamente los colores RGB,\n",
        "# mientras que min y max corresponden al brillo de la imagen\n",
        "\n",
        "# Filtramos imgenes de Sentinel-2 para la región de Chile y fechas específicas\n",
        "sentinel_image = ee.ImageCollection('COPERNICUS/S2_SR_HARMONIZED')\\\n",
        ".filterBounds(aoi_ee)\n",
        "\n",
        "# Agregamos la capa del AOI para poder visualizarla, ésta tiene forma de \"border box\" o rectángulo, porque\n",
        "# está calculada en base a los límites de latitud y longitud del .shp con el polígono del AOI original.\n",
        "Map.addLayer(aoi_ee, {'color': 'red'}, 'AOI')\n",
        "\n",
        "# Agregamos las capas de las imágenes del control 2 como prueba (borrar o cambiar)!!!!!!!!!!!!!!!!!!!!!!!!!\n",
        "Map.addLayer(image_pre.first(), {'bands': ['B4', 'B3', 'B2'], 'min': 0, 'max': 5000, 'opacity': 0.8}, 'Pre-incendio')\n",
        "\n",
        "\n",
        "# Centrar el mapa en la región de interés, con un zoom de 13, y mostramos el mapa\n",
        "Map.centerObject(aoi_ee, 10)\n",
        "Map"
      ]
    },
    {
      "cell_type": "markdown",
      "metadata": {
        "id": "fzFF6g-P7Ylg"
      },
      "source": [
        "En la función geomatric_median se ha calculado la geomediana (medida multivariada que toma las bandas que se le entreguen y calcula una media general de todas las medias obtenidas por dichas bandas. Es decir,"
      ]
    },
    {
      "cell_type": "code",
      "execution_count": null,
      "metadata": {
        "id": "lknAwvmzCZ3z"
      },
      "outputs": [],
      "source": [
        "def get_image_dates_by_year(year, aoi):\n",
        "    start_date = ee.Date(f\"{year}-01-01\")\n",
        "    end_date = ee.Date(f\"{year}-12-31\")\n",
        "\n",
        "    collection = ee.ImageCollection('COPERNICUS/S2_SR_HARMONIZED') \\\n",
        "        .filterBounds(aoi) \\\n",
        "        .filterDate(start_date, end_date)\n",
        "\n",
        "    # Extraemos las fechas como lista y las mapeamos con el formato del dataset\n",
        "    dates = collection.aggregate_array('system:time_start') \\\n",
        "        .map(lambda x: ee.Date(x).format('YYYY-MM-dd'))\n",
        "\n",
        "    return dates.getInfo()  # Esto devuelve una lista de strings con las fechas\n",
        "\n",
        "\n",
        "dict_of_dates = {}\n",
        "\n",
        "for year in range(2000, 2025+1):\n",
        "  print(f\"Obteniendo imagenes para el year {year} ...\")\n",
        "  dict_of_dates[year] = get_image_dates_by_year(year, aoi_ee)\n",
        "  print(f\"La cantidad de ima\")\n",
        "\n",
        "for year, dates in dict_of_dates.items():\n",
        "    if not dates:\n",
        "        print(f\"No se encontraron imágenes para el año {year}.\")\n",
        "        continue\n",
        "    print(f\"Año {year}: {', '.join(dates)}\")"
      ]
    },
    {
      "cell_type": "markdown",
      "metadata": {
        "id": "KzjANz2LZgaX"
      },
      "source": [
        "Utilizamos, para el cálculo de geomedianas, sólo las bandas RGB (Por favor corregirme si me equivoqué, no sé si es del todo correcto en este caso sólo utilizar las bandas RGB para que sea representativo, tuve dudas con esto):"
      ]
    },
    {
      "cell_type": "code",
      "execution_count": null,
      "metadata": {
        "id": "PRaifLBbLizc"
      },
      "outputs": [],
      "source": [
        "import datetime\n",
        "\n",
        "def is_valid_date(year, month, day):\n",
        "    try:\n",
        "        datetime.date(year, month, day)\n",
        "        return True\n",
        "    except ValueError:\n",
        "        return False\n",
        "\n",
        "def geometric_median(collection, num_iterations, bands):\n",
        "\n",
        "    # Calculamos la geomediana sobre la ImageCollection\n",
        "    geomedian_image = collection.reduce(ee.Reducer.geometricMedian(num_iterations)) \\\n",
        "    .rename(bands) # Para evitar conflicto, renombramos las geomedianas de las bandas\n",
        "\n",
        "\n",
        "    # Obtenemos los nombres de las bandas originales\n",
        "    band_names = collection.first().bandNames()\n",
        "\n",
        "    # Reconstruimos la imagen con las bandas\n",
        "    return geomedian_image.set('bandNames', band_names)\n",
        "\n",
        "def calculate_annual_geomedian(year, month, day, aoi, bands):\n",
        "\n",
        "    # Filtrar la colección de imágenes por el área de interés (AOI)\n",
        "    collection = ee.ImageCollection('COPERNICUS/S2_SR_HARMONIZED') \\\n",
        "        .filterBounds(aoi) \\\n",
        "        .filterDate(start_date, end_date) \\\n",
        "        .select(bands)  # Asegúrate de seleccionar solo las bandas necesarias\n",
        "\n",
        "    start_date_string = f\"{year}-{month}-{day}\"\n",
        "\n",
        "    # Verificar que la colección no esté vacía, cuidado!!!!!!\n",
        "    if collection.size().getInfo() == 0:\n",
        "        print(f\"No se han encontrado imágenes para la fecha {start_date_string}\")\n",
        "        print(\"Probando con el día siguiente...\")\n",
        "        return calculate_annual_geomedian(year, month, day+1, aoi, bands)\n",
        "\n",
        "    # Aplicamos el rename a cada imagen dentro de la colección, para usar las bandas en geomediana\n",
        "    collection_renamed = collection.map(lambda img: img.rename(bands))\n",
        "\n",
        "    # Aplicamos la geomediana a la colección: 3 es el número de iteraciones RGB, 26 son todas las bandas.\n",
        "    geomedian_image = geometric_median(collection_renamed, 3, bands)\n",
        "\n",
        "    print(f\"Imagen del año {year} encontrada.\")\n",
        "    return geomedian_image.set('year', year)\n",
        "\n",
        "annual_geomedians = []\n",
        "current_bands_to_use = ['B1', 'B2', 'B3', 'B4', 'B5', 'B6', 'B7', 'B8', 'B8A', 'B9', 'B11', 'B12', 'AOT' \\\n",
        "                        , 'WVP', 'SCL', 'TCI_R', 'TCI_G', 'TCI_B', 'MSK_CLDPRB', 'MSK_SNWPRB', 'QA10', \\\n",
        "                        'QA20', 'QA60', 'MSK_CLASSI_OPAQUE', 'MSK_CLASSI_CIRRUS', 'MSK_CLASSI_SNOW_ICE']\n",
        "\n",
        "for year, dates in dict_of_dates.items():\n",
        "    if not dates:\n",
        "        print(f\"No se encontraron imágenes para el año {year}.\")\n",
        "        continue\n",
        "\n",
        "    print(f\"Calculando geomediana para el año {year} con {len(dates)} fechas...\")\n",
        "\n",
        "    # Convertimos la lista de fechas a ee.Date y filtramos:\n",
        "    start_date = ee.Date(dates[0])\n",
        "    end_date = ee.Date(dates[-1]).advance(1, 'day')\n",
        "\n",
        "    collection = ee.ImageCollection('COPERNICUS/S2_SR_HARMONIZED') \\\n",
        "        .filterBounds(aoi_ee) \\\n",
        "        .filterDate(start_date, end_date) \\\n",
        "        .select(current_bands_to_use)\n",
        "\n",
        "    if collection.size().getInfo() == 0:\n",
        "        print(f\"No hay imágenes en el rango para el año {year}\")\n",
        "        continue\n",
        "\n",
        "\n",
        "    # Aquí necesitamos llamarm a calculate_annual_geomedian\n",
        "    geomedian_image = calculate_annual_geomedian(year, dates[0], dates[-1], aoi_ee, current_bands_to_use)\n",
        "\n",
        "    if geomedian_image:\n",
        "        annual_geomedians.append(geomedian_image.set('year', year))\n",
        "    else:\n",
        "        print(f\"No se pudo calcular la geomediana para el año {year}\")\n",
        "\n",
        "    geomedian = geometric_median(collection, 26, current_bands_to_use)\n",
        "    annual_geomedians.append(geomedian.set('year', year))"
      ]
    },
    {
      "cell_type": "markdown",
      "metadata": {
        "id": "ILu8tDhxGa80"
      },
      "source": [
        "Una vez calculadas las geomedianas obtenemos, gracias a ése cálculo, imágenes más \"limpias\" de nubes y variabilidad climática en general, por lo que la representación visual de esas geomedianas es una buena estimación estable del terreno en un año determinado."
      ]
    },
    {
      "cell_type": "code",
      "execution_count": null,
      "metadata": {
        "id": "h6sjOCMhGXfu"
      },
      "outputs": [],
      "source": [
        "''' CODIGO DE EJEMPLO, IGNORAR ESTA CELDA\n",
        "Map = geemap.Map()\n",
        "for image in annual_geomedians:\n",
        "    try:\n",
        "        year = image.get('year').getInfo()\n",
        "        print(f\"\\n Añadiendo geomediana para el año: {year}\")\n",
        "        print(f\"Bandas disponibles en la imagen del año {year}:\")\n",
        "\n",
        "        bands_of_image = image.bandNames().getInfo()\n",
        "        print(bands_of_image)  # Verificamos qué bandas hay disponibles.\n",
        "\n",
        "        vis_params = {'bands': ['B4','B3','B2'], 'min': 0, 'max': 3000}\n",
        "        Map.addLayer(image, vis_params, f'Geomediana del year {year}')\n",
        "    except Exception as e:\n",
        "        print(f\"Error al añadir la imagen del año {image.get('year').getInfo()}: {e}\")\n",
        "\n",
        "Map.centerObject(aoi_ee, 13) # Centramos el mapa en el AOI\n",
        "Map\n",
        "'''"
      ]
    },
    {
      "cell_type": "markdown",
      "metadata": {
        "id": "gnKGHdM8OAJs"
      },
      "source": [
        "3.2 Genere un split map o timelapse con la imagen (geomediana) RGB de la ciudad estudiada, para el primer y último año analizados. Comente: ¿qué cambios puede apreciar en la zona urbana? (1 pto)\n",
        "\n",
        "\n",
        "R: Las imágenes están en el formato utilizado por ee, así que para poder convertir las imágenes a capas válidas que acepte el método split_panel_map de la librería geemap, debemos aplicar el método [ee_tile_layer](https://geemap.org/ee_tile_layers/)\n",
        "\n",
        "Para poder presentar el split map, utilizamos el método [split_panel_map](https://geemap.org/notebooks/04_split_panel_map/)"
      ]
    },
    {
      "cell_type": "code",
      "execution_count": null,
      "metadata": {
        "id": "ysqUFP7Dtc06"
      },
      "outputs": [],
      "source": [
        "annual_geomedians_rgb = []\n",
        "rgb_bands = ['B4', 'B3', 'B2']\n",
        "\n",
        "for year, dates in dict_of_dates.items():\n",
        "    if not dates:\n",
        "        print(f\"No se encontraron imágenes para el año {year}.\")\n",
        "        continue\n",
        "\n",
        "    print(f\"Calculando geomediana para el año {year} con {len(dates)} fechas...\")\n",
        "\n",
        "    # Convertimos la lista de fechas a ee.Date y filtramos:\n",
        "    start_date = ee.Date(dates[0])\n",
        "    end_date = ee.Date(dates[-1]).advance(1, 'day')\n",
        "\n",
        "    collection = ee.ImageCollection('COPERNICUS/S2_SR_HARMONIZED') \\\n",
        "        .filterBounds(aoi_ee) \\\n",
        "        .filterDate(start_date, end_date) \\\n",
        "        .select(rgb_bands)\n",
        "\n",
        "    if collection.size().getInfo() == 0:\n",
        "        print(f\"No hay imágenes en el rango para el año {year}\")\n",
        "        continue\n",
        "\n",
        "    geomedian = geometric_median(collection, 3, rgb_bands)\n",
        "    annual_geomedians_rgb.append(geomedian.set('year', year))"
      ]
    },
    {
      "cell_type": "code",
      "execution_count": null,
      "metadata": {
        "id": "MpqO9epK7rB_"
      },
      "outputs": [],
      "source": [
        "# Este código da error si geomedianas no tiene imágenes, pero sabemos que tiene, así que\n",
        "# tomamos la primera y la última imagen, para poder hacer el split map con la librería geemap\n",
        "\n",
        "first_image = annual_geomedians_rgb[0]  # Primer año\n",
        "last_image = annual_geomedians_rgb[-1]  # Último año\n",
        "\n",
        "print(first_image.bandNames().getInfo())  # Bandas de la primera imagen\n",
        "print(last_image.bandNames().getInfo())   # Bandas de la última imagen\n",
        "\n",
        "# Agreegamos las capas desde la primera y última imagen de la lista de geomedianas\n",
        "vis_params = {'bands': rgb_bands, 'min': 0, 'max': 3000}\n",
        "left_layer = geemap.ee_tile_layer(first_image, vis_params, name='Primer año')\n",
        "right_layer = geemap.ee_tile_layer(last_image, vis_params, name='Último año')\n",
        "\n",
        "# Presentamos el mapa mapa dividido con el primer y último año, para poder notar las diferencias en el cambio del terreno.\n",
        "Map = geemap.Map()\n",
        "#Map = geemap.Map(use_google_maps=False)\n",
        "Map.split_map(left_layer=left_layer, right_layer=right_layer)\n",
        "Map.centerObject(aoi_ee, 13) # Centramos el mapa en el AOI\n",
        "Map"
      ]
    },
    {
      "cell_type": "markdown",
      "metadata": {
        "id": "7Ch859EHNjWp"
      },
      "source": [
        "Respondiendo a la pregunta, en la zona urbana se pueden apreicar cambios en .................. perdida de vegetaicon"
      ]
    },
    {
      "cell_type": "markdown",
      "metadata": {
        "id": "ZNujGpW8Pzl2"
      },
      "source": [
        "3.3 Investigue sobre índices espectrales que permitan identificar y seleccionar áreas construidas o urbanizadas (1 pto)\n",
        "\n",
        "  Escoja un índice que pueda ser calculado con las imágenes seleccionadas en el punto 3.1. Incluya sus fuentes y referencias.\n",
        "  Escriba un breve párrafo con la definición y justificación de dicho índice, y especifique claramente la fórmula de cálculo.\n",
        "\n",
        "(Sitio web de interés: https://www.gisandbeers.com/calculo-indice-ndbi-analisis-urbanisticos/)\n",
        "\n",
        "Revisando el estudio de\n",
        "https://revistas.uptc.edu.co/index.php/ingenieria_sogamoso/article/view/15018/12232 Me inclino a considerar al NDBI como un buen índice espectral para utilizar en esta tarea. Aunque se concluye del estudio en Colombia que, si bien éste índice es el que mostró mejor resultados en las zonas mencionadas ahí, no es una regla general.\n",
        "\n",
        "El NDBI (Normalized Difference Built-up Index) es un índice espectral diseñado para resaltar las zonas construidas, de ahí el nombre de las siglas. Se basa en el cálculo mediante la fórmula presente en el sitio web de interés, como también en el estudio, ambos enlaces más arriba, la fórmula se basa en el contraste entre la reflectancia del infrarrojo de onda corta (SWIR) y del infrarrojo cercano (NIR), que en el caso de nuestro dataset utilizado (Sentinel-2), equivalen a las bandas B11 y B8, respectivamente. Si bien para el caso de una representación visual corriente representamos las capas (layers) en un mapa con las bandas RGB, que equivalen a las bandas B4, B3 y B2 respectivamente, en este caso utilizamos estas otras bandas para poder estudiar de mejor manera las zonas construidas o edificaciones. Diferentes datasets provienen de diferentes satélites con diferentes sensores, así que no todos los satélites trabajan con las mismas bandas, por lo que en imágenes muy antiguas puede ser que no estén disponbles las bandas de los datasets actuales, como las del Sentinel-2.\n",
        "\n",
        "Fórmulas:\n",
        "\n",
        "NDBI = (SWIR - NIR) / (SWIR + NIR)\n",
        "\n",
        "Misma fórmula, pero reemplazando las radiaciones electromagnéticas SWIR y NIR por sus equivalentes en bandas para el Sentinel-2:\n",
        "\n",
        "NDBI = (Banda 11 - Banda 8) / (Banda 11 + Banda 8)\n",
        "\n",
        "Las equivalencias entre SWIR y NIR con las bandas 11 y 8 fueron obtenidas de https://developers.google.com/earth-engine/datasets/catalog/COPERNICUS_S2_SR_HARMONIZED#bands\n"
      ]
    },
    {
      "cell_type": "markdown",
      "metadata": {
        "id": "HeunXvOBXIzy"
      },
      "source": [
        "3.4 Calcule el IAU para la geomediana de cada año, y genere un mapa o animación que permita visualizar la evolución de la extensión urbana como función del tiempo (2 ptos)\n",
        "\n",
        "  Incluya en su mapa la cartografía del censo 2017. En particular, puede utilizar los polígonos de las zonas urbanas."
      ]
    },
    {
      "cell_type": "markdown",
      "source": [
        "Desarrollando este punto, al investigar sobre los filtros, me di cuenta que no desarrollé de buena manera el control pasado, porque para eliminar los pixeles que distorsionan las muestras de imágenes, hay que aplicar una variedad de filtros que varían según el contexto y terreno de análisis. Primero, al obtener las áreas sin aplicar la máscara de la banda SCL del Sentinel-2, tenía valores sin sentido; al aplicarla, tengo valores más consistentes, pero con una variación entre años que no me hace sentido, hay que seguir limpiando las imágenes de las geomedianas actuales, pero de momento lo dejo así por falta de tiempo, agradecería feedback sobre este punto para investigar más a fondo posteriormente, este punto es muy interesante e importante."
      ],
      "metadata": {
        "id": "J6NUeNEcjWR2"
      }
    },
    {
      "cell_type": "code",
      "execution_count": null,
      "metadata": {
        "id": "8XjSQ8YxPJga"
      },
      "outputs": [],
      "source": [
        "annual_geomedians_b8_b11 = []\n",
        "b8_b11_bands = ['B8', 'B11','B2']\n",
        "\n",
        "# De la documentación de Sentinel-2, aplicamos las capas para limpiar las imágenes:\n",
        "def Apply_mask_SCL(image):\n",
        "    '''\n",
        "    SCL (Scene Classification Layer), es una banda incluida en la información proveniente\n",
        "    del Sentinel-2. Particularmente, eliminamos las nubes medias (8), densas (9), las sombras\n",
        "    de las nubes (9), y la vegetación (3). Así, cloud_mask es una capa que funciona como filtro,\n",
        "    donde sólo se incluyen los pixeles que no son iguales (NEQ: NotEqual) a pixeles que\n",
        "    contienen vegetación y nubes que pueden distorsionar los  datos de estudio.\n",
        "    '''\n",
        "    scl = image.select('SCL') # Seleccionamos la banda.\n",
        "\n",
        "    cloud_mask = scl.neq(3)\\\n",
        "    .And(scl.neq(8))\\\n",
        "    .And(scl.neq(9))\\\n",
        "    .And(scl.neq(10)) # Con los valores booleanos de la banda, construimos la cloud_mask.\n",
        "\n",
        "    imagen_with_filter_applied = image.updateMask(cloud_mask)\n",
        "\n",
        "    return imagen_with_filter_applied\n",
        "\n",
        "for year, dates in dict_of_dates.items():\n",
        "    if not dates:\n",
        "        print(f\"No se encontraron imágenes para el año {year}.\")\n",
        "        continue\n",
        "\n",
        "    print(f\"Calculando geomediana para el año {year} con {len(dates)} fechas...\")\n",
        "\n",
        "    # Convertimos la lista de fechas a ee.Date y filtramos:\n",
        "    start_date = ee.Date(dates[0])\n",
        "    end_date = ee.Date(dates[-1]).advance(1, 'day')\n",
        "\n",
        "    '''\n",
        "    collection = ee.ImageCollection('COPERNICUS/S2_SR_HARMONIZED') \\\n",
        "        .filterBounds(aoi_ee) \\\n",
        "        .filterDate(start_date, end_date) \\\n",
        "        .select(b8_b11_bands)'''\n",
        "\n",
        "    # SCL es la banda de clasificación de escena:\n",
        "    collection = ee.ImageCollection('COPERNICUS/S2_SR_HARMONIZED') \\\n",
        "    .filterBounds(aoi_ee) \\\n",
        "    .filterDate(start_date, end_date) \\\n",
        "    .filter(ee.Filter.lt('CLOUDY_PIXEL_PERCENTAGE', 20)) \\\n",
        "    .map(Apply_mask_SCL) \\\n",
        "    .select(b8_b11_bands + ['SCL'])  \\\n",
        "    .select(b8_b11_bands)  # Volvemos a dejar solo las bandas necesarias para evitar errores.\n",
        "\n",
        "    if collection.size().getInfo() == 0:\n",
        "        print(f\"No hay imágenes en el rango para el año {year}\")\n",
        "        continue\n",
        "\n",
        "    # Calcular la geomediana usando las bandas B8 y B11\n",
        "    geomedian_b8_b11 = geometric_median(collection, 3, b8_b11_bands)\n",
        "    annual_geomedians_b8_b11.append(geomedian_b8_b11.set('year', year))\n",
        "\n",
        "# Esto te dará una lista `annual_geomedians_b8_b11` con las geomedianas para las bandas B8 y B11."
      ]
    },
    {
      "cell_type": "code",
      "execution_count": null,
      "metadata": {
        "id": "qbMpJ8h0XKmC"
      },
      "outputs": [],
      "source": [
        "# Calculamos el IAU (basado en la fórmula NDBI) para cada geomediana\n",
        "def calcular_IAU(imagen):\n",
        "    # Seleccionamos las bandas B8 y B11 a utilizar en la fórmula\n",
        "    b8 = imagen.select('B8')\n",
        "    b11 = imagen.select('B11')\n",
        "\n",
        "    # Calculamos la fórmula del NDBI, que es: NDBI: (SWIR - NIR) / (SWIR + NIR)\n",
        "    ndbi = b11.subtract(b8).divide(b11.add(b8)).rename('IAU')\n",
        "\n",
        "    # Añadimos la banda IAU (NDBI) a la imagen original, como banda extra.\n",
        "    return imagen.addBands(ndbi)\n",
        "\n",
        "# Aplicamos a cada año para las imágenes de las geomedianas RGB ya calculadas\n",
        "iaus = [calcular_IAU(im) for im in annual_geomedians_rgb]\n",
        "\n",
        "# Aplicamos a cada año para las imágenes de las geomedianas B8 y B11\n",
        "iaus_b8_b11 = [calcular_IAU(im) for im in annual_geomedians_b8_b11]\n",
        "\n",
        "# Asignamos fechas, en base al dict_of_dates definido en las primeras celdas, que\n",
        "# Contiene las fechas de las imágenes.\n",
        "fechas = []\n",
        "for year in range(2015, 2025+1):\n",
        "    if year in dict_of_dates and dict_of_dates[year]:\n",
        "        print(f'Agregando el año {year} a la lista de fechas IAU')\n",
        "        # Asignamos las fechas de este año a la lista de fechas\n",
        "        fechas.extend(dict_of_dates[year])\n",
        "\n",
        "# Asignamos fechas (una por imagen) para las geomedianas RGB, y posteriormente para\n",
        "# las geomedianas B8 y B11, para posteriormente crear las visualizaciones que permitan\n",
        "# ver la extensión del desarrollo urbano en función del tiempo\n",
        "iaus_con_fechas_rgb = [\n",
        "    imagen.set('system:time_start', ee.Date(dict_of_dates[year][0]))\n",
        "    for imagen, year in zip(iaus, range(2015, 2025+1))\n",
        "    if year in dict_of_dates and dict_of_dates[year]\n",
        "]\n",
        "\n",
        "iaus_con_fechas_b8_b11 = [\n",
        "    imagen.set('system:time_start', ee.Date(dict_of_dates[year][0]))\n",
        "    for imagen, year in zip(iaus_b8_b11, range(2015, 2025+1))\n",
        "    if year in dict_of_dates and dict_of_dates[year]\n",
        "]\n",
        "\n",
        "# Creamos la capa para el año 2025 (IAU) y asignamos fechas (2025 es un año temporal de prueba)\n",
        "imagen_2025 = calcular_IAU(annual_geomedians[-1]) \\\n",
        "    .set('system:time_start', ee.Date(dict_of_dates[2025][2]))\n",
        "\n",
        "# Creamos una colección de una sola imagen en ese año, para poder usarla en la visu\n",
        "iau_2025_col = ee.ImageCollection([imagen_2025]).select('IAU')\n",
        "\n",
        "# parámetros de la visualización, para IAU y RGB\n",
        "vis_params_iau = {\n",
        "    'min': -1,\n",
        "    'max': 1,\n",
        "    'palette': ['green', 'white', 'red'],\n",
        "    'bands': ['IAU']\n",
        "}\n",
        "\n",
        "vis_params_rgb = {'bands': ['B4', 'B3', 'B2'], 'min': 0, 'max': 3000}\n",
        "\n",
        "\n",
        "Map = geemap.Map()\n",
        "\n",
        "# Añadimos las layers de IAU, una por una\n",
        "\n",
        "for imagen in iaus_con_fechas_b8_b11:\n",
        "    Map.addLayer(imagen, vis_params_iau, 'IAU')\n",
        "    Map.add_time_slider(imagen, {\n",
        "    'min': -1,\n",
        "    'max': 1,\n",
        "}, time_interval=1, date_format='YYYY', layer_name='IAU')\n",
        "\n",
        "#Convertimos la lista generada anteriormente a ImageCollection, para poder usarla en el time_slider\n",
        "iau_collection = ee.ImageCollection(iaus_con_fechas_b8_b11)\n",
        "\n",
        "#Map.addLayer(iau_2025_col, vis_params_iau, 'IAU 2025')\n",
        "\n",
        "# Añadimos la capa RGB del primer año (como ejemplo por ahoraa)\n",
        "#Map.addLayer(annual_geomedians_rgb[0], vis_params_rgb, 'RGB Primer Año')\n",
        "\n",
        "Map.centerObject(aoi_ee, 12)\n",
        "Map"
      ]
    },
    {
      "cell_type": "markdown",
      "source": [
        "Aquí, definimos las funciones para filtrar la clasificación de pidelex urbanos y no urbanos, junto con el cálculo de los kilómetros cuadrados de área urbanizada"
      ],
      "metadata": {
        "id": "wdFJfM9ioSxI"
      }
    },
    {
      "cell_type": "code",
      "execution_count": null,
      "metadata": {
        "id": "oNB97_nJRdVQ"
      },
      "outputs": [],
      "source": [
        "def clasificar_urbano(imagen, umbral=0):  # Ajustamos posteriormente este umbral!\n",
        "    '''\n",
        "    Aquí, se crea una máscara que filtrará las imágenes que cumplen con cierto umbral,\n",
        "    y se les agregará la banda con valor 1 o 0 según corresponda (True o False).\n",
        "    '''\n",
        "    mask = imagen.select('IAU').gt(umbral)  # Sólo valores arriba del umbral son considerados urbanos.\n",
        "    images_with_mask = imagen.addBands(mask.rename('urbano'))\n",
        "    return images_with_mask\n",
        "\n",
        "# Aplicamos la clasificación de urbano o no a todas las imágenes, usando el IAU\n",
        "iaus_clasificadas = [clasificar_urbano(imagen) for imagen in iaus_con_fechas_b8_b11]\n",
        "\n",
        "def calcular_area_urbana(imagen):\n",
        "    #A quí, obtenemos el area de los pixeles de la imagen\n",
        "    area_m2_of_image = ee.Image.pixelArea()\n",
        "\n",
        "    '''\n",
        "    Luego, multiplicamos el área anteriormente obtenida con la banda 'urbano' (que contiene 1 o 0),\n",
        "    así obtendremos sólo el área urbana, ya que el área no urbana se multiplicará por 0, lo que es 0.\n",
        "    Es decir, la variable area_pixeles contendrá, en cada pixel, el área urbana, con en metros cuadrados como unidad.\n",
        "    '''\n",
        "    area_pixeles = imagen.select('urbano').multiply(area_m2_of_image)  # en m^2\n",
        "\n",
        "    area_total = area_pixeles.reduceRegion(\n",
        "        reducer=ee.Reducer.sum(), # Esta función es un reducer: particularmente suma el valor de cada pixel (área m^2).\n",
        "        geometry=aoi_ee, # Sólo consideramos el AOI para el cálculo.\n",
        "        scale=10, # Escala de la imagen, el dataset Sentinel-2 de la tarea tiene una resolución de 10 metros por pixel.\n",
        "        maxPixels=1e9 # Tuve problemas, así que tuve que incluir un máximo de pixeles en el cálculo para evitar problemas de memoria.\n",
        "    )\n",
        "\n",
        "    # Ahora, como la tarea pide km^2 y no m^2, debemos dividir el\n",
        "    area_total_parseada = ee.Number(area_total.get('urbano')) # Convertimos el área a un objeto manejable por ee\n",
        "\n",
        "    km2 = area_total_parseada.divide(1e6) # Igual que antes, usamos la notación exponencial (1e6) para no poner seis ceros.\n",
        "    return imagen.set('area_urbana_km2', km2) # Esto agrega la porpiedad area_urbana_km2 a cada imagen, y la retorna.\n",
        "\n",
        "# Aplicar a todas las imágenes\n",
        "iaus_area = [calcular_area_urbana(imagen) for imagen in iaus_clasificadas]\n",
        "\n",
        "area_in_km2_per_year = {}\n",
        "\n",
        "# Extraer los valores a Python (esto requiere exportación o impresión)\n",
        "for im in iaus_area:\n",
        "    fecha = ee.Date(im.get('system:time_start')).format('YYYY').getInfo()\n",
        "    area_km2 = im.get('area_urbana_km2').getInfo()\n",
        "    area_in_km2_per_year[int(fecha)] = area_km2\n",
        "    print(f\"Año {fecha}: {area_km2:.5f} km^2\") #.5f para obtener redondeo a 5 decimales."
      ]
    },
    {
      "cell_type": "markdown",
      "source": [
        "Representamos la información obtenida de las áreas:"
      ],
      "metadata": {
        "id": "P7D4fIYneIYX"
      }
    },
    {
      "cell_type": "code",
      "source": [
        "import matplotlib.pyplot as plt\n",
        "\n",
        "# Obtenemos los years y areas en km^2 del diccionario definido en la celda anterior:\n",
        "years = sorted(area_in_km2_per_year.keys())\n",
        "areas = [area_in_km2_per_year[year] for year in years]\n",
        "\n",
        "# Graficar serie de tiempo\n",
        "plt.figure(figsize=(8, 6))\n",
        "plt.plot(years, areas, marker='o', color='red')\n",
        "plt.title('Superficie/Área urbana por year (km^2)')\n",
        "plt.xlabel('Year')\n",
        "plt.ylabel('Área Urbana (km^2)')\n",
        "plt.grid(True)\n",
        "plt.show()"
      ],
      "metadata": {
        "id": "HCRzsAKAonMl"
      },
      "execution_count": null,
      "outputs": []
    },
    {
      "cell_type": "markdown",
      "source": [
        "3.6 En base al índice calculado, identifique (si existen) aquellas zonas de crecimiento urbano exagerado o \"hot spots\", y también zonas de declive urbano o \"cold spots\". Explique claramente cómo identificó estas zonas (1 pto)\n",
        "\n",
        "\n",
        "R: Aquí, se identificó el crecimiento urbano restando los pixeles del año final de estudio, con los pixeles del año de inicio de estudio, ya que así estaríamos viendo la variación que tienen los pixeles con valor 1 (urbanizado) con los que tienen valor 0 (no urbanizado), dicha resta siempre mostrará la diferencia entre la urbanización según los años, siempre y cuando los pixeles contengan valores representativos.\n",
        "\n",
        "Por esto último es importante considerar que hay falsos \"hot spots\" y \"cold spots\" en el mapa, ya que no se aplicaron anteriormente filtros para eliminar algunas interferencias: por ejemplo, hay secciones de tierra clara que se consideran como zonas urbanizadas. Sin embargo, esto último no es un problema en este caso, ya que el AOI no incluye más que la ciudad circundante, que no tiene variaciones extensivas en el terreno estudiado, pero en otros casos habría que considerar el uso de \"filtros de limpieza\", como se aplicó a las nubes en celdas anteriores.\n",
        "\n",
        "También es importante mencionar que, para poder diferenciar los \"cold and hot spots\", se ha dejado la capa RGB disponible, pero se puede desactivar desde la visualización."
      ],
      "metadata": {
        "id": "BtJvSRzq0wiz"
      }
    },
    {
      "cell_type": "code",
      "source": [
        "Map = geemap.Map()\n",
        "Map.addLayer(iaus_con_fechas_b8_b11[0], vis_params_iau, 'IAU')\n",
        "\n",
        "# Mostramos la capa RGB para poder guiarnos visualmente de mejor manera.\n",
        "Map.addLayer(annual_geomedians_rgb[0], vis_params_rgb, 'RGB Primer year')\n",
        "\n",
        "# Obtenemos el primer y ultimo year para comparar\n",
        "year_inicio = ee.Date(iaus_clasificadas[0].get('system:time_start')).format('YYYY').getInfo()\n",
        "year_fin = ee.Date(iaus_clasificadas[-1].get('system:time_start')).format('YYYY').getInfo()\n",
        "\n",
        "# Calculamos cambio urbano entre primer y último year\n",
        "urbano_inicio = iaus_clasificadas[0].select('urbano')\n",
        "urbano_fin = iaus_clasificadas[-1].select('urbano')\n",
        "cambio_total = urbano_fin.subtract(urbano_inicio).rename('cambio_urbano')\n",
        "\n",
        "# Añadimos capa de cambio urbano entre años y mostramos\n",
        "Map.addLayer(cambio_total, {\n",
        "    'min': -1,\n",
        "    'max': 1,\n",
        "    'palette': ['blue', 'white', 'red']\n",
        "}, f'Cambio urbano entre los years {year_inicio}-{year_fin}')\n",
        "\n",
        "Map.addLayerControl() # Con esto podemos controlar las diferntes Layers!\n",
        "Map.centerObject(aoi_ee, 12)\n",
        "Map"
      ],
      "metadata": {
        "id": "f85VP-CaeKTm"
      },
      "execution_count": null,
      "outputs": []
    },
    {
      "cell_type": "markdown",
      "source": [
        "3.7 Considere ahora solamente el año 2020. Para este año, obtenga los datos de GHSL, y compare con el raster de área urbana generado a partir del IAU (2 ptos)\n",
        "\n",
        "  Genere un splitmap con ambos raster, y explique las similitudes y diferencias que idnetifica entre ambas capas de información.\n",
        "\n",
        "  Aquí, el enlace sólo permite trabajar con el dataset del año 2018, así que de momento utilizamos ese año en vez del 2020 que se solicita en la pregunta:"
      ],
      "metadata": {
        "id": "_5gebuvhhP8G"
      }
    },
    {
      "cell_type": "code",
      "source": [
        "# Cargamos el dataset de GHSL del enunciado\n",
        "ghsl_col = ee.Image('JRC/GHSL/P2023A/GHS_BUILT_C/2018')\n",
        "\n",
        "# Seleccionamos la única banda built_characteristics del dataset\n",
        "ghsl_2020 = ghsl_col.select('built_characteristics').clip(aoi_ee)\n",
        "\n",
        "# Seleccionamos las áreas construidas, que corresponden a los valores entre 11 y 25,\n",
        "# según la documentación (el método .And está en la documentación de gee)\n",
        "ghsl_2020_built = ghsl_2020.gte(11).And(ghsl_2020.lte(25))\n",
        "\n",
        "# Aquí, como el primer año de la lista corresponde al 2020, usamos este, puede variar, CUIDADO!\n",
        "iau_2020_urbanizado = iaus_clasificadas[0].select('urbano').clip(aoi_ee)\n",
        "\n",
        "# Settings de las layers\n",
        "params_vis_ghsl = {'min': 0, 'max': 50, 'palette': ['white', 'red']}\n",
        "params_vis_iau = {'min': 0, 'max': 1, 'palette': ['white', 'green']}\n",
        "\n",
        "# Convertir las imágenes a capas de mapa usando ee_tile_layer\n",
        "ghsl_tile_layer = geemap.ee_tile_layer(ghsl_2020, params_vis_ghsl, name='GHSL')\n",
        "iau_tile_layer = geemap.ee_tile_layer(iau_2020_urbanizado, params_vis_iau, name='IAU')\n",
        "\n",
        "# Creamos el mapa y usamos split_map para mostrar ambas layers\n",
        "Map = geemap.Map()\n",
        "Map.split_map(left_layer=ghsl_tile_layer, right_layer=iau_tile_layer)\n",
        "\n",
        "# Centramos en el AOI y mostramos\n",
        "Map.centerObject(aoi_ee, 12)\n",
        "Map"
      ],
      "metadata": {
        "id": "rD0bXxWwuO-M"
      },
      "execution_count": null,
      "outputs": []
    },
    {
      "cell_type": "markdown",
      "source": [
        "El IAU trabajado y el GHSL son bastante similares en sus resultados, podemos ver que a diferencia del raster GHSL, el IAU tiene menor rango de valores para presentar la información, ya que el IAU trabajado sólo clasifica cada pixel considerando si es urbano o no, mientras que GHSL tiene una banda de 25 valores para presentar información, sin ser tan categóricos en la clasificación (Bandas mencionadas disponibles en [Este enlace](https://developers.google.com/earth-engine/datasets/catalog/JRC_GHSL_P2023A_GHS_BUILT_C#bands))\n",
        "\n",
        "Podemos ver que el GHSL es mucho más amplio en la clasificación de urbanización. Por ejemplo, el IAU incluye carreteras, mientras que el GHSL, según los valores de bandas elegidos, no las incluye en el split map. También vemos que el IAU incluye calles como urbanización, mientras que el GHSL no, ya que hemos excluido ese valor de la consideración en la selección (todavía no he investigado qué tan determinante son las calles o \"road surfaces\" del valor 5 de la banda del dataset GHSL en la urbanización, imagino que se deberían considerar, pero como esta es una tarea, considero que no tiene mayor relevancia de momento, además nos ayudará posteriormente a ver como la intersección no las incluye)"
      ],
      "metadata": {
        "id": "LLr0mjFhrqTc"
      }
    },
    {
      "cell_type": "markdown",
      "source": [
        "Evalúe las diferencias en términos de área y geometría de la extensión urbana (intersección / diferencia)\n",
        "\n",
        "Si entendí bien, creo que se pide, para evaluar las diferencias en términos de área y geometría de la extensión urbana, que consideremos la intersección y la diferencia de los \"dos índices\" (GHSL y IAU), así que prosigo:"
      ],
      "metadata": {
        "id": "SirlutEsqGuU"
      }
    },
    {
      "cell_type": "code",
      "source": [
        "# Umbralizamos ambas imágenes, importante, sin esto los valores difieren\n",
        "ghsl_bin = ghsl_2020.gte(11).And(ghsl_2020.lte(25))  # GHSL, solo áreas construidas con valores mayor a 11 según documentación de la banda del dataset.\n",
        "iau_bin = iau_2020_urbanizado.gte(1)  # IAU con valores únicamente de 1, o sea, áreas urbanizadas\n",
        "\n",
        "# Evaluamos las diferencias entre los índices y también su intersección\n",
        "ghsl_solo = ghsl_bin.And(iau_bin.Not())\n",
        "\n",
        "iau_solo = iau_bin.And(ghsl_bin.Not())\n",
        "\n",
        "interseccion = ghsl_bin.And(iau_bin)\n",
        "\n",
        "# Calculamos el área (en m^2) de cada categoría\n",
        "area_pixel = ee.Image.pixelArea()\n",
        "\n",
        "# Calculamos las áreas de intersección y sus diferencias\n",
        "# Aquí, tuve que usar .rename \"area\" para luego poder mostrarlo con print correctamente en km^2\n",
        "# Estas funciones están disponibles en los ppt de la clase, en Canvas.\n",
        "area_ghsl_solo = ghsl_solo.multiply(area_pixel).rename('area').reduceRegion(\n",
        "    reducer=ee.Reducer.sum(),\n",
        "    geometry=aoi_ee,\n",
        "    scale=10,\n",
        "    maxPixels=1e9\n",
        ")\n",
        "\n",
        "area_iau_solo = iau_solo.multiply(area_pixel).rename('area').reduceRegion(\n",
        "    reducer=ee.Reducer.sum(),\n",
        "    geometry=aoi_ee,\n",
        "    scale=10,\n",
        "    maxPixels=1e9\n",
        ")\n",
        "\n",
        "area_interseccion = interseccion.multiply(area_pixel).rename('area').reduceRegion(\n",
        "    reducer=ee.Reducer.sum(),\n",
        "    geometry=aoi_ee,\n",
        "    scale=10,\n",
        "    maxPixels=1e9\n",
        ")\n",
        "\n",
        "# áreas en km^2, ya que las áreas están en m^2, debemos dividir entre 1e6 (100.000)\n",
        "print('Área GHSL (km^2):', area_ghsl_solo.getInfo()['area'] / 1e6)\n",
        "print('Área IAU (km^2):', area_iau_solo.getInfo()['area'] / 1e6)\n",
        "print('Área intersección GHSL y IAU (km^2):', area_interseccion.getInfo()['area'] / 1e6)\n",
        "\n",
        "# Parámetros para las visualizaciones\n",
        "vis_interseccion = {'min': 0, 'max': 1, 'palette': ['white', 'red']}\n",
        "vis_ghsl_solo = {'min': 0, 'max': 1, 'palette': ['white', 'blue']}\n",
        "vis_iau_solo = {'min': 0, 'max': 1, 'palette': ['white', 'green']}\n",
        "\n",
        "# Crear tile layers\n",
        "ghsl_solo_vis = geemap.ee_tile_layer(ghsl_solo, vis_ghsl_solo, 'GHSL')\n",
        "iau_solo_vis = geemap.ee_tile_layer(iau_solo, vis_iau_solo, 'IAU')\n",
        "interseccion_vis = geemap.ee_tile_layer(interseccion, vis_interseccion, 'Intersección entre GHSL e IAU')\n",
        "\n",
        "Map = geemap.Map()\n",
        "\n",
        "# Usar ee_tile_layer soluciona problema de compatibilidad al usar split layers\n",
        "Map.add(geemap.ee_tile_layer(ghsl_solo, vis_ghsl_solo, 'GHSL'))\n",
        "Map.add(geemap.ee_tile_layer(iau_solo, vis_iau_solo, 'IAU'))\n",
        "Map.add(geemap.ee_tile_layer(interseccion, vis_interseccion, 'Intersección entre GHSL e IAU'))\n",
        "\n",
        "# Equivalente a las tres lineas anteriores, pero sin .ee_tile_layer:\n",
        "#Map.addLayer(ghsl_solo, vis_ghsl_solo, 'GHSL')\n",
        "#Map.addLayer(iau_solo, vis_iau_solo, 'IAU')\n",
        "#Map.addLayer(interseccion, vis_interseccion, 'Intersección entre GHSL e IAU')\n",
        "\n",
        "# Centramos el mapa en el AOI, le agregamos control de layers y lo mostramos\n",
        "Map.centerObject(aoi_ee, 12)\n",
        "Map.addLayerControl() # Con esto podemos controlar las diferntes Layers!\n",
        "Map\n"
      ],
      "metadata": {
        "id": "i4_Oo6zDiEG3"
      },
      "execution_count": null,
      "outputs": []
    },
    {
      "cell_type": "markdown",
      "source": [
        "Vemos que la intersección tiene un valor muy alto, lo que significa que es una porción significativa del área capturada por el IAU que calculamos con la fórmula investigada, y el del dataset GHSL entregado por el enunciado, así que nuestra estimación con el IAU para medir la urbanización en este año es relativamente aceptable en este sentido, porque también incluye calles y carreteras, así que obviamente habrá una diferencia en la contabilización de la urbanización."
      ],
      "metadata": {
        "id": "PqwzSex_9CNO"
      }
    },
    {
      "cell_type": "markdown",
      "source": [
        "3.8 Otro forma de monitorear el crecimiento urbano, es mediante capas de capas de clasificación de usos de suelo, o LULC (land use/land cover). Un ejemplo reciente de este tipo de datos es el dataset Dynamic World: https://dynamicworld.app/ (2 ptos)\n",
        "\n",
        "  Identifique uno (o más) puntos de la ciudad identificados previamente en el punto 3.6 como zonas de crecimiento o declive urbano.\n",
        "  Para estos mismos puntos, genere series de tiempo con la probabilidad de clases de uso de suelo en base al dataset Dynamic World.\n",
        "  Analice la serie de tiempo y comente: ¿son coherentes los resultados con su análisis previo en base al IAU?"
      ],
      "metadata": {
        "id": "Hlm3N6mvCRXL"
      }
    },
    {
      "cell_type": "markdown",
      "source": [
        "Aquí, he utilizado el dataset del enunciado, que si no me he equivocado es [este](https://developers.google.com/earth-engine/datasets/catalog/GOOGLE_DYNAMICWORLD_V1), parte de https://dynamicworld.app/, que se ha utilizado en dw_collection = ee.ImageCollection(\"GOOGLE/DYNAMICWORLD/V1\").\n",
        "\n",
        "\n",
        "En la función create_time_series, se calcula la mediana de las probabilidades para cada clase de suelo, que son 9 tipos según el dataset utilizado (https://developers.google.com/earth-engine/datasets/catalog/GOOGLE_DYNAMICWORLD_V1), pero hay que considerar que hay un décimo dato, que corresponde a la banda con mayor probabilidad estimada, pero no lo utilizaremos.\n",
        "\n",
        "También, en la misma función, en la variable value, se ha utilizado la función ee.Image.reduceRegion https://developers.google.com/earth-engine/apidocs/ee-image-reduceregion, para poder"
      ],
      "metadata": {
        "id": "RAvm1CfSODD_"
      }
    },
    {
      "cell_type": "code",
      "source": [
        "# Carguemos el dataset Dynamic World del enunciado.\n",
        "dw_collection = ee.ImageCollection(\"GOOGLE/DYNAMICWORLD/V1\")\n",
        "\n",
        "# Como ya tenemos el AOI definido (aoi_ee), lo usamos para filtrar la colección\n",
        "dw_collection = dw_collection.filterBounds(aoi_ee)\n",
        "\n",
        "#Definimos los puntos, y les agregamos un buffer de 10 metros a cada uno\n",
        "point1 = ee.Geometry.Point([-72.32, -37.47]).buffer(10) # Punto en zona azul (cold spot)\n",
        "point2 = ee.Geometry.Point([-72.40, -37.44]).buffer(10) # Punto en la periferia\n",
        "\n",
        "\n",
        "#La siguiente función retornará un diccionario con las series de tiempo para cada clase de suelo, según el dataset dw\n",
        "def create_time_series(collection, geometry, start_year, end_year):\n",
        "\n",
        "  series = {}\n",
        "\n",
        "  for year in range(start_year, end_year + 1):\n",
        "    year_collection = collection.filter(ee.Filter.calendarRange(year, year, 'year')) #Filtramos de una forma diferente a las celdas anteriores!\n",
        "\n",
        "    if year_collection.size().getInfo() > 0: #Comprobamos que hayan datos, para evitar errores.\n",
        "\n",
        "      # Ahora, calculamos la mediana de las probabilidades para cada clase de suelo\n",
        "      median_image = year_collection.median()\n",
        "\n",
        "      for class_name in ['water', 'trees', 'grass', 'flooded_vegetation', 'crops', 'shrub_and_scrub', 'built', 'bare', 'snow_and_ice']:\n",
        "        class_probability = median_image.select(f'{class_name}') # Seleccionamos la clase de suelo actual.\n",
        "        #value = class_probability.reduceRegion(ee.Reducer.mean(), geometry).get(class_name).getInfo()\n",
        "        value = class_probability.reduceRegion(ee.Reducer.mean(), geometry, scale=10).get(class_name).getInfo()\n",
        "\n",
        "        if class_name not in series: # Si no está la clase mencionada, llenamos con valores vacíos, para prevenir errores.\n",
        "          series[class_name] = {'years': [], 'values': []}\n",
        "        series[class_name]['years'].append(year)\n",
        "        series[class_name]['values'].append(value)\n",
        "\n",
        "    else:\n",
        "      print(f\"No hay imágenes para el year {year}\")\n",
        "  return series\n",
        "\n",
        "\n",
        "# Creamos las series de tiempo para los dos puntos y los mosttramos\n",
        "start_year = 2015 # Dynamic World tiene datos desde 2017\n",
        "end_year = 2025  # Hasta el último año disponible\n",
        "series_point1 = create_time_series(dw_collection, point1, start_year, end_year)\n",
        "series_point2 = create_time_series(dw_collection, point2, start_year, end_year)\n",
        "\n",
        "print(\"Series de tiempo para el Punto 1:\", series_point1)\n",
        "print(\"Series de tiempo para el Punto 2:\", series_point2)\n",
        "\n",
        "# ------  AGREGAMOS ESTO  PARA VISUALIZAR LOS PUNTOS EN EL MAPA ------\n",
        "Map = geemap.Map()\n",
        "Map.centerObject(aoi_ee, zoom=12)\n",
        "\n",
        "# Agregamos los puntos\n",
        "Map.add_layer(point1, {'color': 'red'}, 'Punto 1')\n",
        "Map.add_layer(point2, {'color': 'blue'}, 'Punto 2')\n",
        "Map.add_layer(aoi_ee, {'color': 'black'}, 'AOI')\n",
        "\n",
        "Map"
      ],
      "metadata": {
        "id": "rmJusLYCCWmk"
      },
      "execution_count": null,
      "outputs": []
    },
    {
      "cell_type": "markdown",
      "source": [
        "Ahora, miramos los puntos de 3.6 en el mapa para asegurarnos que están en el lugar adecuado, uno en el centro donde hay cambio en la urbanización, y el otro en la periferia de la ciudad.\n",
        "\n",
        "Como podemos ver, podemos seleccionar manualmente las capas de interés, así que si tenemos dificultades para poder encontrar los puntos, podemos desactivar las layers que no nos interesan."
      ],
      "metadata": {
        "id": "WYvWnwbZRHJ6"
      }
    },
    {
      "cell_type": "code",
      "source": [
        "###### Copiamos el mapa del punto 3.6: ######\n",
        "Map = geemap.Map()\n",
        "Map.addLayer(iaus_con_fechas_b8_b11[0], vis_params_iau, 'IAU')\n",
        "\n",
        "# Mostramos la capa RGB para poder guiarnos visualmente de mejor manera.\n",
        "vis_params_rgb = {'bands': ['B4', 'B3', 'B2'], 'min': 0, 'max': 3000, 'opacity': 0.7} # Opacidad al 70%\n",
        "Map.addLayer(annual_geomedians_rgb[0], vis_params_rgb, 'RGB Primer year')\n",
        "\n",
        "# Obtenemos el primer y ultimo year para comparar\n",
        "year_inicio = ee.Date(iaus_clasificadas[0].get('system:time_start')).format('YYYY').getInfo()\n",
        "year_fin = ee.Date(iaus_clasificadas[-1].get('system:time_start')).format('YYYY').getInfo()\n",
        "\n",
        "# Calculamos cambio urbano entre primer y último year\n",
        "urbano_inicio = iaus_clasificadas[0].select('urbano')\n",
        "urbano_fin = iaus_clasificadas[-1].select('urbano')\n",
        "cambio_total = urbano_fin.subtract(urbano_inicio).rename('cambio_urbano')\n",
        "\n",
        "# Añadimos capa de cambio urbano entre años y mostramos\n",
        "Map.addLayer(cambio_total, {\n",
        "    'min': -1,\n",
        "    'max': 1,\n",
        "    'palette': ['blue', 'white', 'red']\n",
        "}, f'Cambio urbano entre los years {year_inicio}-{year_fin}')\n",
        "\n",
        "Map.addLayerControl() # Con esto podemos controlar las diferntes Layers!\n",
        "Map.centerObject(aoi_ee, 12)\n",
        "\n",
        "\n",
        "###### Agregamos los puntos al mapa ######\n",
        "Map.add_layer(point1, {'color': 'black'}, 'Punto 1')\n",
        "Map.add_layer(point2, {'color': 'green'}, 'Punto 2')\n",
        "\n",
        "Map"
      ],
      "metadata": {
        "id": "ogpIrTSjRGoT"
      },
      "execution_count": null,
      "outputs": []
    },
    {
      "cell_type": "markdown",
      "source": [
        "Entonces, para terminar el análisis, hacemos unas gráficas simples:"
      ],
      "metadata": {
        "id": "3vTyhO3ubq6M"
      }
    },
    {
      "cell_type": "code",
      "source": [
        "import pandas as pd\n",
        "import matplotlib.pyplot as plt\n",
        "\n",
        "# Convertimos las series a DataFrames\n",
        "df_point1 = pd.DataFrame({clase: pd.Series(data['values'], index=data['years']) for clase, data in series_point1.items()})\n",
        "df_point2 = pd.DataFrame({clase: pd.Series(data['values'], index=data['years']) for clase, data in series_point2.items()})\n",
        "\n",
        "# Dibujamos tabla para punto 1\n",
        "fig, ax = plt.subplots(figsize=(12, 3))\n",
        "ax.axis('off')\n",
        "tabla1 = ax.table(cellText=df_point1.round(2).values,\n",
        "                  rowLabels=df_point1.index,\n",
        "                  colLabels=df_point1.columns,\n",
        "                  loc='center',\n",
        "                  cellLoc='center')\n",
        "fig.suptitle('Serie de tiempo - Punto 1 (Ciudad)')\n",
        "plt.show()\n",
        "\n",
        "# Dibujamos tabla para punto 2\n",
        "fig, ax = plt.subplots(figsize=(12, 3))\n",
        "ax.axis('off')\n",
        "tabla2 = ax.table(cellText=df_point2.round(2).values,\n",
        "                  rowLabels=df_point2.index,\n",
        "                  colLabels=df_point2.columns,\n",
        "                  loc='center',\n",
        "                  cellLoc='center')\n",
        "fig.suptitle('Serie de tiempo - Punto 2 (periferia)')\n",
        "plt.show()\n"
      ],
      "metadata": {
        "id": "Lx0DeNzTbuEY"
      },
      "execution_count": null,
      "outputs": []
    },
    {
      "cell_type": "markdown",
      "source": [
        "Como conclusión, comparando las tablas de los dos puntos, podemos notar que, dado que el punto 2 (periferia) está en el borde de una rotonda, y el punto 1 está por el centro de la ciudad, los datos tienen sentido según el crecimiento urbano analizado  en celdas anteriores.\n",
        "\n",
        "Hay que considerar que el punto de la ciudad no está exactamente en una zona de crecimiento urbano, sino en una zona agrícola, así que es del todo natural que existan cambios en las clases trees, crops y grass, y que no hayan grandes cambios en built, que corresponde a cambios urbanos.\n",
        "\n",
        "Se ha utilizado un buffer de 10m para los puntos, porque intentando con los puntos por si solos, no había mucha variabiliad en los resultados.\n",
        "\n",
        "Esto, hasta el momento, con los puntos mencionados, es consistente con el IAU."
      ],
      "metadata": {
        "id": "GhhUJzD4drT5"
      }
    },
    {
      "cell_type": "markdown",
      "source": [
        "3.9 Finalmente, muchas veces constatamos que la urbanización ocurre en forma más acelerada que el desarrollo de infraestructura pública y servicios urbanos básicos como educación, salud, agua potable, transporte público, etc., lo cual conlleva problemas de calidad de vida y desigualdad socioeconómica, entre otros. ¿Es este el caso de su ciudad de estudio? (3 ptos)\n",
        "\n",
        "  Seleccione dos tipos de infraestructura o servicios a analizar, como por ejemplo: escuelas, hospitales, transporte público, redes de agua potable, redes de electricidad, etc. (puede sugerir otras).\n",
        "  Para dichos servicios, busque y obtenga datos georreferenciados que le permitan analizar su evolución temporal desde el año 2000 (o algún año posterior) hasta el 2022. Especifique claramente los datos utilizados y su fuente.\n",
        "  Analice estos datos en conjunto con su análisis previo del IAU. ¿Puede identificar si hay coherencia entre las zonas de mayor crecimiento urbano, y el desarrollo de servicios urbanos? ¿Hay un desfase temporal entre la urbanización, y la expansión de la infraestructura urbana básica? Comente en base a sus resultados.\n",
        "\n",
        "Algunas plataformas de utilidad:\n",
        "\n",
        "  DEIS MINSAL: https://deis.minsal.cl/\n",
        "  MINEDUC : https://datosabiertos.mineduc.cl/\n",
        "  SECTRA: https://www.sectra.gob.cl/datos_informacion_espacial/datos_informacion_espacial.htm\n",
        "  SISS: https://www.siss.gob.cl/586/w3-propertyvalue-6323.html\n",
        "  Geoportal MINVU: https://ide.minvu.cl/"
      ],
      "metadata": {
        "id": "glDpxYWRCU27"
      }
    },
    {
      "cell_type": "markdown",
      "source": [
        "Comparando entre los años, podemos ver que no hay un crecimiento urbano elevado, pero sí ha existido (como también decrecimiento, pero eso puede ser mayormente porque se consideraron áreas agrícolas, que constantemente cambian), como también se han incrementado la cantidad de calles considerablemente."
      ],
      "metadata": {
        "id": "bNg_thMhd3mH"
      }
    }
  ],
  "metadata": {
    "colab": {
      "provenance": []
    },
    "kernelspec": {
      "display_name": "Python 3",
      "language": "python",
      "name": "python3"
    },
    "language_info": {
      "codemirror_mode": {
        "name": "ipython",
        "version": 3
      },
      "file_extension": ".py",
      "mimetype": "text/x-python",
      "name": "python",
      "nbconvert_exporter": "python",
      "pygments_lexer": "ipython3",
      "version": "3.8.8"
    }
  },
  "nbformat": 4,
  "nbformat_minor": 0
}