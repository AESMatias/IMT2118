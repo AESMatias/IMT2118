{
  "cells": [
    {
      "cell_type": "markdown",
      "metadata": {
        "id": "kg-re-ng6mBU"
      },
      "source": [
        "<h1><center>IMT2118 - Ciencia de Datos Geoespaciales (2024-1) </center></h1>\n",
        "<h2><center>Tarea 3:  Percepción Remota y Análisis Espacial de Islas de Calor Urbanas </center></h2>\n",
        "\n",
        "\n",
        "\n",
        "<div class=\"alert alert-block alert-info\">\n",
        "\n",
        "## Instrucciones generales.\n",
        "\n",
        "&#128467; **Fecha de entrega:** 1 de junio de 2025, 23:59. <br>\n",
        "\n",
        "&#128236; **Entrega:** a través de Canvas, adjunte todos los archivos necesarios para ejecutar su código dentro de una única carpeta comprimida (.zip). Incluya el  Jupyter Notebook con el desarrollo (puede utilizar este mismo notebook), y las capas o archivos vectoriales que haya generado como parte de su análisis. El objetivo es que **el Notebook pueda correr completamente dentro de la carpeta entregada**. <br>\n",
        "\n",
        "&#128013; La Tarea debe ser desarrollada en lenguaje de programación Python. <br>\n",
        "\n",
        "&#11088; En el Notebook, incluya texto explicando los pasos u operaciones desarrolladas, no sólo el código. El objetivo es que el Notebook siga un hilo narrativo, sea claro y atractivo de leer. En [este link](https://github.com/brad-do/nb-miscellany/blob/master/things_to_do_in_markdown.ipynb) puede encontrar algunos tips útiles para usar celdas de anotaciones o Markdown. <br>\n",
        "\n",
        "\n",
        "&#128519; El trabajo es **invididual**, y debe seguir todos los lineamientos de integridad académica del curso. Recuerde referenciar apropiadamente todas las referencias, códigos y datos consultados para el desarrollo de su tarea.<br>\n",
        "\n",
        "</div>"
      ]
    },
    {
      "cell_type": "markdown",
      "metadata": {
        "id": "M8VMSck46mBX"
      },
      "source": [
        "<h1><center>IMT2118 - Ciencia de Datos Geoespaciales (2025-1) </center></h1>\n",
        "<h2><center>Tarea 3:  Percepción Remota y Análisis Espacial de Islas de Calor Urbanas </center></h2>\n",
        "\n",
        "\n",
        "\n",
        "<div class=\"alert alert-block alert-info\">\n",
        "\n",
        "## Instrucciones generales.\n",
        "\n",
        "&#128467; **Fecha de entrega:** 1 de junio 2025, 23:59. <br>\n",
        "\n",
        "&#128236; **Entrega:** a través de Canvas, adjunte todos los archivos necesarios para ejecutar su código dentro de una única carpeta comprimida (.zip). Incluya el  Jupyter Notebook con el desarrollo (puede utilizar este mismo notebook), y las capas o archivos vectoriales que haya generado como parte de su análisis. El objetivo es que **el Notebook pueda correr completamente dentro de la carpeta entregada**. <br>\n",
        "\n",
        "&#128013; La Tarea debe ser desarrollada en lenguaje de programación Python. <br>\n",
        "\n",
        "&#11088; En el Notebook, incluya texto explicando los pasos u operaciones desarrolladas, no sólo el código. El objetivo es que el Notebook siga un hilo narrativo, sea claro y atractivo de leer. En [este link](https://github.com/brad-do/nb-miscellany/blob/master/things_to_do_in_markdown.ipynb) puede encontrar algunos tips útiles para usar celdas de anotaciones o Markdown. <br>\n",
        "\n",
        "\n",
        "&#128519; El trabajo es **invididual**, y debe seguir todos los lineamientos de integridad académica del curso. Recuerde referenciar apropiadamente todas las referencias, códigos y datos consultados para el desarrollo de su tarea.<br>\n",
        "\n",
        "</div>"
      ]
    },
    {
      "cell_type": "markdown",
      "metadata": {
        "id": "i6ndLH0T6mBY"
      },
      "source": [
        "## Introducción\n",
        "\n",
        "Alrededor del mundo, las ciudades están experimentando aumentos sostenidos de temperatura debido a los efectos combinados de cambio climático y urbanización, llegando a generarse zonas de extremo sobrecalentamiento o *islas urbanas de calor*, que prepresentan un riesgo significativo para la actividad y salud humana.\n",
        "\n",
        "Uno de los elementos claves en el estudio de las islas urbanas de calor y de la adaptación al sobrecalentamiento urbano, es el análisis de la distribución espacio-temporal de la temperatura superficial (Land Surface Temperature, LST) y de los factores que la determinan. La LST es ampliamente utilizada también en el estudio de fenómenos como la evotranspiración, cambio climático, ciclos hidrológicos, y cambios en la vegetación, entre otros (Eshetie 2024, Li et al. 2013).\n",
        "\n",
        "En esta tarea, analizaremos los patrones de temperatura e islas de calor en la ciudad de Santiago de Chile.\n",
        "\n",
        "**Referencias:**\n",
        "\n",
        "- Seyoum M. Eshetie. Exploring urban land surface temperature using spatial modelling techniques: a case study of Addis Ababa city, Ethiopia. *Sci Rep* 14, 6323 (2024). https://doi.org/10.1038/s41598-024-55121-6\n",
        "\n",
        "- Zhao-Liang Li, Bo-Hui Tang, Hua Wu, Huazhong Ren, Guangjian Yan, Zhengming Wan, Isabel F. Trigo, José A. Sobrino.\n",
        "Satellite-derived land surface temperature: Current status and perspectives, *Remote Sensing of Environment*, 131, 14 (2013). https://doi.org/10.1016/j.rse.2012.12.008.\n",
        "    "
      ]
    },
    {
      "cell_type": "markdown",
      "metadata": {
        "id": "TMhpXNxu6mBY"
      },
      "source": [
        "## Desarrollo\n",
        "\n"
      ]
    },
    {
      "cell_type": "markdown",
      "metadata": {
        "id": "f_ZqxT4q6mBZ"
      },
      "source": [
        "### 1. Generación de mapas de temperaturas. [12 ptos]\n",
        "\n",
        "Para analizar las distribuciones de temperatura en la ciudad de Santiago, consideraremos como fuente de datos, los rasters de temperatura superficial (LST) generados a partir de imágenes satelitales térmicas.\n",
        "\n",
        "El primer objetivo, es generar mapas de temperatura a partir de dichas fuentes, y compararlos. Para ello, desarrolle los siguientes puntos:\n",
        "\n",
        "**1.1 [10 ptos]**  De la colección [Landsat 8](https://developers.google.com/earth-engine/datasets/catalog/landsat-8), obtenga y visualize un raster con la temperatura superficial (LST) media para Santiago, para un mes de la temporada de verano 2024. Utilice unidades de grados Celsius.\n",
        "\n",
        "**a)** Defina una región y fechas de interés para el estudio, de manera de abarcar la zona urbana metropolitana, y la temporada de verano 2024.\n",
        "\n",
        "**b)** Seleccione las imágenes a utilizar, y aplique todas las correcciones y escalamientos apropiados para la colección.\n",
        "\n",
        "**c)** Utilice la definición de LST urbana de Eshetie (2024) para generar un mapa de temperatura superficial para Santiago.\n",
        "\n",
        "**1.2 [2 ptos]** Compare el mapa resultante con los resultados de la campaña [Santiago Hot](https://sites.google.com/view/santiagohot/mapas-de-calor?authuser=0) (puede descargar los resultados). ¿Qué diferencias y similitudes puede identificar entre estas dos formas de medición? En caso de diferencias, analice en pocas líneas las posibles causas.\n",
        "\n"
      ]
    },
    {
      "cell_type": "markdown",
      "metadata": {
        "id": "KfvZjNn66mBZ"
      },
      "source": [
        "### 2. Análisis de patrones de temperatura. [14 ptos]\n",
        "\n",
        "\n",
        "**2.1 [6 ptos]** Analice los datos de temperatura superficial  para el verano 2024.\n",
        "\n",
        "**a)** ¿Hay evidencias de patrones de autocorrelación global? Genere un gráfico de Moran, y calcule el valor y significancia del índice I de Moran.\n",
        "\n",
        "**b)** Analice los patrones de autocorrelación local ¿Existen zonas de cold/hot spots y outliers? Si es así, identifíquelos espacialmente mediante un análisis LISA, y evalúe su nivel de confiabilidad estadística.\n",
        "\n",
        "**2.2 [8 ptos]** Los estudios de islas urbanas de calor, apuntan en general a identificar patrones espacio-temporales de temperatura superficial, y también a identificar los factores explicativos de dichos patrones. Por ejemplo, es usual analizar también la distribución de variables como NDVI, NBI y la elevación, obtenida de modelos de elevación digital o DEM (como ejemplos, Eshetie 2024).\n",
        "\n",
        "**a)** Seleccione una variable (que llamaremos $X$) cuya distribución pueda estar correlacionada con $LST$. Explique la posible correlación, y genere un raster de dicha variable para fechas compatibles con el mapa de $LST$ generado en el punto 1.\n",
        "  \n",
        "**b)** Las temperaturas extremas pueden afectar especialmente la salud de poblaciones vulnerables como niños, y adultos mayores. Analice y compare el patrón de temperaturas en Santiago, con la distribución de adultos mayores en la ciudad. ¿Puede plantear alguna conclusión o hipótesis al respecto?\n",
        "\n",
        "**c)** Analice los patrones de autocorrelación global y local de la variable ($X$) escogida.\n",
        "\n",
        "**d)** Comente, ¿cómo se compara los resultados con los del punto 2.1? ¿puede apreciar alguna similaridad entre los patrones de autocorrelación global y local de las variables $LST$ y $X$?\n",
        "\n"
      ]
    },
    {
      "cell_type": "markdown",
      "metadata": {
        "id": "phCquJei6mBa"
      },
      "source": [
        "#### Nota: Es esta tarea, puede recurrir a herramientas de GenIA (aunque no es necesario), excepto para los comentarios y análisis comparativos/cualitativos. En ese caso, se requiere que declare su uso, y adjunte un archivo de texto con los prompts utilizados. El uso NO DECLARADO de asistentes de IA, será considerado una falta a la integridad académica.\n"
      ]
    },
    {
      "cell_type": "markdown",
      "source": [
        "**1.1 [10 ptos]**  De la colección [Landsat 8](https://developers.google.com/earth-engine/datasets/catalog/landsat-8), obtenga y visualize un raster con la temperatura superficial (LST) media para Santiago, para un mes de la temporada de verano 2024. Utilice unidades de grados Celsius.\n",
        "\n",
        "**a)** Defina una región y fechas de interés para el estudio, de manera de abarcar la zona urbana metropolitana, y la temporada de verano 2024."
      ],
      "metadata": {
        "id": "682n7jky6wbq"
      }
    },
    {
      "cell_type": "code",
      "execution_count": null,
      "metadata": {
        "id": "EQYglvNo6mBb"
      },
      "outputs": [],
      "source": [
        "#!pip uninstall earthengine-api -y\n",
        "#!pip install earthengine-api==0.1.341 geemap --upgrade"
      ]
    },
    {
      "cell_type": "code",
      "source": [
        "import geemap,ee\n",
        "ee.Authenticate()\n",
        "ee.Initialize(project='ee-aesmatias')\n",
        "#Aqui, por google colab no tuve que usar un token ni nada, pero se requiere autenticacion"
      ],
      "metadata": {
        "id": "4E7DRy2g6qHO"
      },
      "execution_count": null,
      "outputs": []
    },
    {
      "cell_type": "code",
      "source": [
        "#import os\n",
        "#os.environ['GOOGLE_MAPS_API_KEY'] = 'TOKEN'"
      ],
      "metadata": {
        "id": "lYkHfGpt6tUD"
      },
      "execution_count": null,
      "outputs": []
    },
    {
      "cell_type": "markdown",
      "source": [
        "En la siguiente celda, se ha utilizado GenAI para obtener las coordenadas, pero posteriormente se ha verificado que, en el mapa, efectivamente la zona urbana de interés (Santiago).\n",
        "\n",
        "He considerado verano como varios meses, desde diciembre hasta marzo, indagando en internet parece haber un cierto concenso en aquello, pero sería mejor acudir a una autoridad meteorológica y establecer fechas según el caso."
      ],
      "metadata": {
        "id": "7MXbcD-k9cSB"
      }
    },
    {
      "cell_type": "code",
      "source": [
        "#-11\n",
        "\n",
        "\n",
        "# Aquí, se usan coordenadas para, posteriormente, definir un polígono de la librería earth engine:\n",
        "santiago_coords = [\n",
        "    [-70.9, -33.7],\n",
        "    [-70.9, -33.2],\n",
        "    [-70.5, -33.2],\n",
        "    [-70.5, -33.7],\n",
        "    [-70.9, -33.7]\n",
        "]\n",
        "\n",
        "AOI_santiago = ee.Geometry.Polygon(santiago_coords)\n",
        "\n",
        "# El verano comienza, aproximadamente en start_date, y finaliza en end_date, así que definimos\n",
        "# el periodo de verano según esas fechas:\n",
        "start_date = '2023-12-21'\n",
        "end_date = '2024-02-20'\n",
        "\n",
        "print(f\"Periodo de verano estudiado: {start_date} - {end_date}.\")"
      ],
      "metadata": {
        "id": "c_Lz064Z6vGC"
      },
      "execution_count": null,
      "outputs": []
    },
    {
      "cell_type": "markdown",
      "source": [
        "Luego, en la documentación de GEE, podemos ver que, en https://developers.google.com/earth-engine/datasets/catalog/LANDSAT_LC08_C02_T2_L2#bands se encuentras las bandas, dentro de las cuales hay una banda llamada ST_B10, que en su descripción se declara como \"Band 10 surface temperature\", pero mostrando la imagen como un layer, sin procesarla, da como resultado algo sin sentido en este contexto, ya que hay una escala y un offset que hay que corregir, según el link anterior, en la sección bandas.\n",
        "\n",
        "La escala tiene un valor numérico de de 0.00341802, y el offset es de 149, por lo que hacemos una función para procesar cada imagen de una colección según estos datos, y así poder convertir a escala Kelvin, para luego restarle 273.15 y obtener los grados en Celsius.\n",
        "\n",
        "Aquí abajo, se ha usado GenAI para aplicar la fórmula en la función:"
      ],
      "metadata": {
        "id": "MHAHAr9fDKfz"
      }
    },
    {
      "cell_type": "code",
      "source": [
        "# Según la documentación, esta colección tiene bandas térmicas (ST_B10) y de reflectancia (SR_B4, SR_B5, etc...).\n",
        "# Filtramos la colección para la zona de interés y la temporada de verano definida antes:\n",
        "collection = ee.ImageCollection('LANDSAT/LC08/C02/T1_L2').filterBounds(AOI_santiago) \\\n",
        "    .filterDate(start_date, end_date) \\\n",
        "    .filter(ee.Filter.lt('CLOUD_COVER', 20)) # Filtrar por nubes (opcional, si el LST de Eshetie no las maneja bien)\n",
        "\n",
        "print(f\"Cantidad de mágenes del dataset LANDSAT/LC08/C02/T1_L2 filtradas aquí: {collection.size().getInfo()}\")"
      ],
      "metadata": {
        "id": "3RdHLiERDKE-"
      },
      "execution_count": null,
      "outputs": []
    },
    {
      "cell_type": "markdown",
      "source": [
        "Dado que en el dataset, las bandas SR_B1 hasta la SR_B7 ya contienen la reflectancia superficial, no hace falta aplicar todos los pasos de la fórmula LST de eshetie. Además, tuve problemas intentando formularla con este dataset, porque no se incluyen constantes y datos necesarios para el paso a paso de la fórmula explicada en https://www.nature.com/articles/s41598-024-55121-6, por lo que se me hizo imposible realizarlo de esa manera.\n",
        "\n",
        "En la siguiente celda, está la función que calcula el LST lo más parecido posible a la fórmula del enlace anterior. Primero, se procesó cada imagen de la colección del dataset, se le agregaron las bandas a utilizar y algunas de las tareas y controles anterior por si acaso, y se renombraron para mayor facilidad. Luego de eso, se obtuvo la media de la colección y se graficó, con valores mínimos y máximos para la visualización entre 20 y 45 grados celsius, porque es verano, se graficó también en el mapa el Área de interés de la zona urbana de Santiago, con una opacidad reducida, pero se puede desactivar en el menú interactivo, o en el mismo código.\n",
        "\n",
        "Aquí se ha utilizado GenAI, pero sólo para guiarme, he cambiado toda la función línea por línea porque obtuve muchos errores, pero la paleta de colores está generada con AI. Gran parte del código está basado en tareas anteriores, hice copy paste para guiarme."
      ],
      "metadata": {
        "id": "iXzS787q7Lbp"
      }
    },
    {
      "cell_type": "code",
      "source": [
        "#-12\n",
        "#-12.1\n",
        "\n",
        "def calcular_LST_eshetie(img):\n",
        "    #Aquí, seleccionamos de cada imagen que llega como argumento en la función, la banda ST_B10, que es,\n",
        "    #según la documentación, la \"surface temperature\", y está dada en kelvin:\n",
        "    lst_kelvin = img.select('ST_B10').multiply(0.00341802).add(149.0).rename('LST_Kelvin')\n",
        "\n",
        "    # Convertimos a celcius y, como antes, renombramos la banda para manejarla mejor:\n",
        "    lst_celsius = lst_kelvin.subtract(273.15).rename('LST_Celsius')\n",
        "\n",
        "    #Seleccionamos el Near-infrared y el Red, de las bandas correspondientes según la documentación,\n",
        "    #para cada imagen de la colección:\n",
        "    nir = img.select('SR_B5')\n",
        "    red = img.select('SR_B4')\n",
        "\n",
        "    #Como en las tareas anteriores, aplicamos la fórmula NDVI y renombramos el resultado como una banda:\n",
        "    ndvi = nir.subtract(red).divide(nir.add(red)).rename('NDVI')\n",
        "\n",
        "    # Dado que en el dataset, las bandas SR_B1 hasta la SR_B7 ya contienen la reflectancia superficial,\n",
        "    # no hace falta aplicar todos los pasos de la fórmula LST de eshetie.\n",
        "    swir = img.select('SR_B6')\n",
        "    ndbi = nir.subtract(swir).divide(nir.add(swir)).rename('NDBI')\n",
        "\n",
        "    # Retornamos, por cada imagen, la misma entidad pero con las bandas recién añadidas calculadas:\n",
        "    return img.addBands([\n",
        "        lst_kelvin,\n",
        "        lst_celsius, # consideraremos esta banda para la visualización del LST en el mapa!\n",
        "        ndvi,\n",
        "        ndbi\n",
        "    ])\n",
        "\n",
        "#Pasamos cada imagen de la colección por la función anterior, mapeada, para obtener las nuevas bandas:\n",
        "lst_calculated_collection = collection.map(calcular_LST_eshetie)\n",
        "\n",
        "# Seleccionamos la media de la banda LST en grados Celsius, que es lo que nos interesa:\n",
        "mean_lst_eshetie_image = lst_calculated_collection.select('LST_Celsius').mean()\n",
        "\n",
        "\n",
        "# Calcular estadísticas (percentiles 2 y 80) para definir un rango de visualización dinámico.\n",
        "# La imagen 'mean_lst_eshetie_image' ya tiene la banda 'LST_Celsius',\n",
        "# por lo que las claves esperadas serán 'LST_Celsius_pXX'.\n",
        "\n",
        "\n",
        "# Definir los parámetros de visualización para el mapa de LST.\n",
        "vis_params_eshetie = {\n",
        "    'min': 20, # Mínimo\n",
        "    'max': 45, # Máximo\n",
        "    'palette': ['blue', 'cyan', 'green', 'yellow', 'orange', 'red']\n",
        "}\n",
        "\n",
        "# Crear y mostrar el mapa interactivo.\n",
        "Map_Eshetie = geemap.Map(center=[-33.45, -70.65], zoom=10) # Centramos en una coord cerca del AOI\n",
        "Map_Eshetie.addLayer(mean_lst_eshetie_image, vis_params_eshetie, 'Media LST Santiago')\n",
        "Map_Eshetie.addLayer(AOI_santiago, {'color': 'cyan','opacity': .6}, 'AOI Santiago')\n",
        "\n",
        "Map_Eshetie"
      ],
      "metadata": {
        "id": "FogIzBYQ7YqU"
      },
      "execution_count": null,
      "outputs": []
    },
    {
      "cell_type": "markdown",
      "source": [
        "**1.2 [2 ptos]** Compare el mapa resultante con los resultados de la campaña [Santiago Hot](https://sites.google.com/view/santiagohot/mapas-de-calor?authuser=0) (puede descargar los resultados). ¿Qué diferencias y similitudes puede identificar entre estas dos formas de medición? En caso de diferencias, analice en pocas líneas las posibles causas.\n"
      ],
      "metadata": {
        "id": "ZifZ6L_f7dHe"
      }
    },
    {
      "cell_type": "markdown",
      "source": [
        "Observando el mapa interactivo y los resultados de la campaña en cuestión, se pueden notar visiblemente similitudes en ciertas comunas, como la sección de Lampa y Quilicura cerca del aeropuerto, como también en la zona centro-sur de la ciudad. El resultado de la campaña, comparado con el resultado obtenido en mi código es también consistente con las zonas de menor calor, como el sector de Lo Barnechea. Es importante destacar que en el mapa interactivo de la campaña es posible seleccionar layers para el índice de calor ambiental y el calor ambiental, en diferentes horarios, mientras que nuestra visualización es una media de las imágenes obtenidas de la colección acotada en verano del 2024, mientras que la campaña consta de más muestras, según los resultados.\n",
        "\n",
        "Otra causa de diferencias puede ser que en la campaña se destaca que, con respecto a los resultados, si bien se han entregado temperaturas absolutas, se recomienda poner atención en una distribución de temperaturas (por ejemplo, áreas en el 20% más caluroso), mientras que en nuestro código hay máximos y mínimos absolutos en la visualización, se podría cambiar el mín y máx que rellena la paleta de colores para que sean valores dinámicos según percentiles de los grados celsius a partir de las imágenes.\n",
        "\n",
        "También, los resultados indican que la paleta de colores usada varía entre rojo, naranja, blanco y celeste, mientras que nuestra paleta de colores consta de 6 valores, y son diferentes.\n",
        "\n",
        "Nuestros valores máx y mín son arbitrarios, pero como se mencionó antes, es fácilmente corregible. Hay que poner mucha atención al contexto del problema, porque no estamos abordando la problemática de los datos de la misma forma que la campaña, nosotros sólo usamos la media de pocas imágenes (2), que no incluye un modelo de Machine Learning, ni modelos predictivos.\n",
        "\n",
        "Otra diferencia es que nuestro dataset tiene una resolución espacial de 30m, mientras que la campaña tiene de 10m."
      ],
      "metadata": {
        "id": "gdHghx1-8C_D"
      }
    },
    {
      "cell_type": "markdown",
      "source": [
        "### 2. Análisis de patrones de temperatura. [14 ptos]\n",
        "\n",
        "\n",
        "**2.1 [6 ptos]** Analice los datos de temperatura superficial  para el verano 2024.\n",
        "\n",
        "**a)** ¿Hay evidencias de patrones de autocorrelación global? Genere un gráfico de Moran, y calcule el valor y significancia del índice I de Moran.\n",
        "\n",
        "**b)** Analice los patrones de autocorrelación local ¿Existen zonas de cold/hot spots y outliers? Si es así, identifíquelos espacialmente mediante un análisis LISA, y evalúe su nivel de confiabilidad estadística."
      ],
      "metadata": {
        "id": "0JA-ZS43EbxR"
      }
    },
    {
      "cell_type": "code",
      "source": [
        "!pip install pysal geopandas matplotlib"
      ],
      "metadata": {
        "id": "kggxlNSDK710"
      },
      "execution_count": null,
      "outputs": []
    },
    {
      "cell_type": "markdown",
      "source": [
        "Aquí, he tomado como referencia esta explicación de Moran:\n",
        "https://pro.arcgis.com/es/pro-app/latest/tool-reference/spatial-statistics/h-how-spatial-autocorrelation-moran-s-i-spatial-st.htm, además de https://pro.arcgis.com/es/pro-app/latest/tool-reference/spatial-statistics/what-is-a-z-score-what-is-a-p-value.htm, junto con la clase online grabada donde se menciona el algoritmo K-means y el DBSCAN, como también HDBSCAN y diferentes variantes de algoritmos de clustering o agrupación de la librería [scikit-learn](https://scikit-learn.org), que me ayudaron a entender mejor este algoritmo, bastante similar si analogamos algunas ideas, aunque algo más complejo por el apartado estadístico directamente incluido en su formulación, pero he utilizado librerías sugeridas por un LLM para poder implementarlo de forma segura.\n",
        "\n",
        "Aquí, he usado GenAI para consultar sobre las librerías y la generación de los gráficos y, si bien tuve que cambiar casi todo, he puesto los sample scale que me ha dado la AI, porque tuve errores con una muestra de pixeles mayor a 5000, como también en la línea de geometries=True."
      ],
      "metadata": {
        "id": "QEObZLkzVQ5h"
      }
    },
    {
      "cell_type": "code",
      "source": [
        "#-13:\n",
        "import numpy as np\n",
        "import pandas as pd #Probablemente no lo ocuparemos\n",
        "import geopandas as gpd\n",
        "import matplotlib.pyplot as plt\n",
        "from esda.moran import Moran, Moran_Local\n",
        "from libpysal.weights import KNN\n",
        "from splot.esda import moran_scatterplot as splot_moran_scatterplot\n",
        "from splot.esda import lisa_cluster as splot_lisa_cluster\n",
        "\n",
        "sample_scale_m = 500\n",
        "max_sample_pixels = 5000 # Aquí, si pongo más de 5k de pixeles, EE rechaza procesarlos y crashea todo.\n",
        "\n",
        "print(f\"Muestreando la imagen LST a {sample_scale_m} metros con un máximo de {max_sample_pixels} píxeles...\")\n",
        "\n",
        "points_data = None #Definimos la variable que contendrá los puntos\n",
        "\n",
        "try:\n",
        "    points_feature_collection = mean_lst_eshetie_image.sample(\n",
        "        region=AOI_santiago,\n",
        "        scale=sample_scale_m,\n",
        "        numPixels=max_sample_pixels, # Limitamos a los 5k definidos arriba o crashea GEE\n",
        "        geometries=True # Sin esto da error> ValueError: need at least one array to concatenate\n",
        "    )\n",
        "    points_data = points_feature_collection.getInfo() # Los datos de los puntos obtenidos\n",
        "\n",
        "except Exception as e:\n",
        "    print(f\"ERROR: {e}\")\n",
        "\n",
        "\n",
        "if points_data is None or not points_data['features']:\n",
        "    print(\"No hay datos en los puntos!\")\n",
        "    exit()\n",
        "\n",
        "print(f\"Muestreo completado. Número de puntos obtenidos: {len(points_data['features'])}\")\n",
        "\n",
        "# Convertir los puntos a un GeoDataFrame para el análisis espacial\n",
        "lst_values = []\n",
        "geometry_coords = []\n",
        "    # Para recorrer las características de los puntos, un LLM ha generado este ciclo:\n",
        "for f in points_data['features']:\n",
        "    if f and f.get('properties') and 'LST_Celsius' in f['properties'] and f.get('geometry') and f['geometry'].get('coordinates'):\n",
        "        lst_values.append(f['properties']['LST_Celsius'])\n",
        "        geometry_coords.append(f['geometry']['coordinates'])\n",
        "\n",
        "# GDF generado por un LLM:\n",
        "gdf = gpd.GeoDataFrame(\n",
        "    data={'LST_Celsius': lst_values},\n",
        "    geometry=gpd.points_from_xy([p[0] for p in geometry_coords], [p[1] for p in geometry_coords]),\n",
        "    crs=\"EPSG:4326\"\n",
        ")\n",
        "\n",
        "gdf = gdf.to_crs(epsg=32719) # usamos la zona horaria UTM Zone 19S para Santiago\n",
        "print(f\"GeoDataFrame creado y proyectado a EPSG:32719 con {len(gdf)} puntos.\")\n",
        "\n",
        "k = 8\n",
        "w = KNN.from_dataframe(gdf, k=k)\n",
        "w.transform = 'R'\n",
        "print(f\"Matriz de pesos espaciales creada con {w.n} observaciones y {w.pct_nonzero * 100:.2f}% de conexiones.\")\n",
        "\n",
        "y = gdf['LST_Celsius'].values\n",
        "moran = Moran(y, w, permutations=999)\n",
        "\n",
        "print(f\"I de Moran global: {moran.I:.4f}\")\n",
        "print(f\"Valor p (simulación): {moran.p_sim:.4f}\")\n",
        "print(f\"Esperanza (E[I]): {moran.EI:.4f}\")\n",
        "\n",
        "if moran.p_sim < 0.05:\n",
        "    print(\"El I de Moran es estadísticamente significativo (p < 0.05).\")\n",
        "    if moran.I > moran.EI:\n",
        "        print(\"Existe una autocorrelación espacial POSITIVA significativa (agrupamiento).\")\n",
        "    else:\n",
        "        print(\"Existe una autocorrelación espacial NEGATIVA significativa (dispersión).\")\n",
        "else:\n",
        "    print(\"El I de Moran NO es estadísticamente significativo (p >= 0.05).\")\n",
        "    print(\"La distribución espacial de LST es aleatoria (no hay autocorrelación global).\")\n",
        "\n",
        "\n",
        "# GRÁFICO DE MORAN\n",
        "fig, ax = plt.subplots(figsize=(8, 8))\n",
        "splot_moran_scatterplot(moran, ax=ax)\n",
        "ax.set_xlabel(\"LST_Celsius (Estandarizado)\")\n",
        "ax.set_ylabel(\"Lag Espacial de LST_Celsius (Estandarizado)\")\n",
        "ax.set_title(\"Gráfico de Dispersión de Moran (LST_Celsius)\")\n",
        "plt.grid(True)\n",
        "plt.show()"
      ],
      "metadata": {
        "id": "7Ga32qJOIusp"
      },
      "execution_count": null,
      "outputs": []
    },
    {
      "cell_type": "markdown",
      "source": [
        "Evidentemente hay una correlación global. Con los valores solicitados calculados y el gráfico, podemos ver que en el eje x e y están los valores normalizados de la temperatura LST y el promedio ponderado de los vecinos del punto en cuestión, respectivamente. Así, podemos ver una correlación global tanto en el gráfico, que parece agruparse con respecto a la recta identidad, como también en los resultados obtenidos en el output."
      ],
      "metadata": {
        "id": "l4DqSU7Kbl93"
      }
    },
    {
      "cell_type": "code",
      "source": [
        "#-14:\n",
        "\n",
        "moran_loc = Moran_Local(y, w, permutations=999)\n",
        "alpha = 0.05\n",
        "\n",
        "# VISUALIZAR LOS PATRONES LISA EN EL MAPA USANDO SPLOT\n",
        "fig_lisa, ax_lisa = plt.subplots(1, 1, figsize=(10, 10))\n",
        "splot_lisa_cluster(moran_loc, gdf, ax=ax_lisa, p=alpha, legend=True, legend_kwds={'loc':'upper left', 'bbox_to_anchor':(1, 1)})\n",
        "ax_lisa.set_title(\"Análisis LISA de LST en Santiago (Verano 2024)\")\n",
        "ax_lisa.set_axis_off()\n",
        "plt.tight_layout()\n",
        "plt.show()"
      ],
      "metadata": {
        "id": "heQMRMeHNoJx"
      },
      "execution_count": null,
      "outputs": []
    },
    {
      "cell_type": "markdown",
      "source": [
        "El gráfico anterior fue generado con AI, pero no importa si no está bien pulido, ya que permite un análisis de lo que se solicita en la pregunta:\n",
        "\n",
        "Claramente podemos ver visualmente que existen zonas de cold y hot spot, como también outliers. Dado que tenemos un valor de significancia alfa de 0.05, sólo se clasifican como hot spots, cold spots u outliers, los puntos donde la probabilidad de agrupamiento por hipótesis de azar es inferior al 5%, lo que nos da un nivel de confianza muy alto. Así, los valores azul y rojo son estadísticamente significativos dado el nivel de confianza.\n",
        "\n",
        "En cuanto a los puntos grises, son los puntos que no cumplen con el nivel de significancia mencionado arriba, esto significa que no podemos afirmar que su distribución sea aleatoria o no con un 95% de confianza.\n",
        "\n",
        "Los puntos grises, como se mencionaba, son puntos donde la autocorrelación local no es estadísticamente significativa, y la temperatura se distribuya aleatoriamente, sin generar puntos agrupados claros.\n",
        "\n",
        "Los puntos azules oscuros corresponden a cold spots y, análogamente, los puntos rojos corresponden a los hot spots, que son puntos donde la temperatura superficial es mayor o menor, respectivamente, pero de forma agrupada en relación a los puntos vecinos, es decir, se forman agrupaciones de calor o frío.\n",
        "\n",
        "Los Outliers son los puntos azules claros y naranja, corresponden a puntos donde la temperatura superficial es relativamente baja o alta en relación a sus vecinos, en la realidad pueden corresponder a industrias, zonas sin áreas verdes con mucho tránsito en caso de ser outliers de alta temperatura en relación a vecinos menos cálidos, por dar un ejemplo especulativo."
      ],
      "metadata": {
        "id": "raYbGOTVevik"
      }
    },
    {
      "cell_type": "markdown",
      "source": [
        "**2.2 [8 ptos]** Los estudios de islas urbanas de calor, apuntan en general a identificar patrones espacio-temporales de temperatura superficial, y también a identificar los factores explicativos de dichos patrones. Por ejemplo, es usual analizar también la distribución de variables como NDVI, NBI y la elevación, obtenida de modelos de elevación digital o DEM (como ejemplos, Eshetie 2024).\n",
        "\n",
        "**a)** Seleccione una variable (que llamaremos $X$) cuya distribución pueda estar correlacionada con $LST$. Explique la posible correlación, y genere un raster de dicha variable para fechas compatibles con el mapa de $LST$ generado en el punto 1.\n"
      ],
      "metadata": {
        "id": "bePCSau4mFJq"
      }
    },
    {
      "cell_type": "code",
      "source": [
        "#-15:\n",
        "\n",
        "# Usamos la variable X como la mediana del NDVI de las imágenes:\n",
        "mean_ndvi_image = lst_calculated_collection.select('NDVI').mean()\n",
        "\n",
        "#Siguiendo la recomendación de la campaña Santiago Hot, usamos percentiles:\n",
        "ndvi_stats = mean_ndvi_image.reduceRegion(\n",
        "    reducer=ee.Reducer.percentile([2, 98]),\n",
        "    geometry=AOI_santiago,\n",
        "    scale=30,\n",
        "    maxPixels=1e13,\n",
        "    tileScale=4\n",
        ").getInfo()\n",
        "\n",
        "min_ndvi = ndvi_stats['NDVI_p2']\n",
        "max_ndvi = ndvi_stats['NDVI_p98']\n",
        "\n",
        "\n",
        "#Parámetros generados por un LLM:\n",
        "print(f\"Rango de visualización de NDVI: Min={min_ndvi:.2f}, Max={max_ndvi:.2f}\")\n",
        "\n",
        "vis_params_ndvi = {\n",
        "    'min': min_ndvi,\n",
        "    'max': max_ndvi,\n",
        "    'palette': [\n",
        "        '#d73027',  # Rojo para valores muy bajos (agua, suelo desnudo)\n",
        "        '#fc8d59',  # Naranja\n",
        "        '#fee08b',  # Amarillo\n",
        "        '#d9ef8b',  # Verde claro\n",
        "        '#91cf60',  # Verde medio\n",
        "        '#1a9850'   # Verde oscuro para valores altos (vegetación densa)\n",
        "    ]\n",
        "}\n",
        "\n",
        "# Creamos el mapa con geemap, lo centramos en santiago y le agregamos el NDVI como layer:\n",
        "map_ndvi = geemap.Map(center=[-33.45, -70.65], zoom=10)\n",
        "map_ndvi.addLayer(mean_ndvi_image, vis_params_ndvi, 'NDVI Medio (Verano 2024)')\n",
        "map_ndvi.addLayer(AOI_santiago, {'color': 'cyan', 'opacity':.6}, 'AOI Santiago')"
      ],
      "metadata": {
        "id": "xhhQws8QnIxX"
      },
      "execution_count": null,
      "outputs": []
    },
    {
      "cell_type": "markdown",
      "source": [
        "Entonces, usando el NDVI, que es usado en el LST, lo tomamos como la variable X, ya que está correlacionada al incluirse en el LST (está literalmente en las primeras celdas, en la función que mapea cada imagen de la colección aplicando bandas para calcular el LST). Luego, generamos el raster de la variable con las mismas fechas de las imágenes obtenidas, esto es, usamos las mismas dos imágenes para garantizar la compatibilidad:"
      ],
      "metadata": {
        "id": "rDKhcdUrro_O"
      }
    },
    {
      "cell_type": "code",
      "source": [
        "#-15: Barra generada totalmente con un LLM, es sólo para guiarse, no tiene mucha relevancia\n",
        "\n",
        "# Paso 1: Crear la leyenda como una figura de Matplotlib\n",
        "fig_colorbar, ax_colorbar = plt.subplots(figsize=(1.5, 6)) # Tamaño de la figura para la leyenda\n",
        "\n",
        "# Crear un mapa de colores y una normalización para el colorbar\n",
        "cmap = plt.cm.colors.ListedColormap(vis_params_ndvi['palette'])\n",
        "norm = plt.cm.colors.Normalize(vmin=min_ndvi, vmax=max_ndvi)\n",
        "\n",
        "# Crear el colorbar\n",
        "cb = plt.colorbar(plt.cm.ScalarMappable(norm=norm, cmap=cmap), cax=ax_colorbar, orientation='vertical')\n",
        "\n",
        "# Definir los ticks para la leyenda\n",
        "ticks = np.linspace(min_ndvi, max_ndvi, 5) # 5 ticks para 5 segmentos\n",
        "cb.set_ticks(ticks)\n",
        "cb.set_ticklabels([f'{t:.2f}' for t in ticks]) # Formatear los ticks\n",
        "\n",
        "# Etiqueta del colorbar\n",
        "cb.set_label('NDVI')\n",
        "\n",
        "# Título de la leyenda (opcional, para claridad)\n",
        "ax_colorbar.set_title('Leyenda NDVI', fontsize=10)\n",
        "\n",
        "plt.tight_layout() # Ajustar el diseño para que todo quepa\n",
        "plt.show()\n",
        "\n",
        "map_ndvi # MOSTRAMOS EL MAPA GENERADO EN LA CELDA ANTERIOR!"
      ],
      "metadata": {
        "id": "8Nwxaa2YrfDl"
      },
      "execution_count": null,
      "outputs": []
    },
    {
      "cell_type": "markdown",
      "source": [
        "Como dice el enunciado de la pregunta, es usual identificar factores explicativos de los patrones, como el NDVI, que se mide a partir de la vegetación."
      ],
      "metadata": {
        "id": "leCHG0FlqiPv"
      }
    },
    {
      "cell_type": "markdown",
      "source": [
        "**b)** Las temperaturas extremas pueden afectar especialmente la salud de poblaciones vulnerables como niños, y adultos mayores. Analice y compare el patrón de temperaturas en Santiago, con la distribución de adultos mayores en la ciudad. ¿Puede plantear alguna conclusión o hipótesis al respecto?"
      ],
      "metadata": {
        "id": "8lQlBsNWnLO4"
      }
    },
    {
      "cell_type": "markdown",
      "source": [
        "Los datos del censo de diferentes años y, de los últimos, disponibles en https://www.ine.gob.cl/ indican que hay una alta concentracion de adultos mayores en la ciudad, pero también hay gran cantidad de jóvenes. Los adultos y niños mayores pueden tener mayores complicaciones con las olas de calor, son más vulnerables. También, la distribución de ancianos es elevada en sectores de la ciudad donde hay olas de calor. Los sectores con olas de calor cerca de Quilicura y Lampa tienen gran cantidad de niños, lo que también es un riesgo a su salud, se deben tomar consideraciones gubernamentales para prevenir posibles incidentes en verano."
      ],
      "metadata": {
        "id": "1WBl_5GPuIpZ"
      }
    },
    {
      "cell_type": "markdown",
      "source": [
        "**c)** Analice los patrones de autocorrelación global y local de la variable ($X$) escogida."
      ],
      "metadata": {
        "id": "C5rHZqDEuGr8"
      }
    },
    {
      "cell_type": "markdown",
      "source": [
        "\n",
        "Ya se ha explicado por qué se ha elegido la variable X como NDVI anteriormente, aquí hay que hacer un análisis LISA exactamente al de las celdas anteriores, pero considerando el NDVI esta vez, para así comparar los hot spots, cold spots, outliers, y demás. El análisis es análogo al anterior, y se podrá apreciar la autocorrelación global y local:"
      ],
      "metadata": {
        "id": "N8IShMgIvFH3"
      }
    },
    {
      "cell_type": "code",
      "source": [
        "#-17: mapa lisa generado por un LLM a partir de las celdas anteriores\n",
        "\n",
        "#Celda para 2.2 c) - Parte de Autocorrelación Local (LISA para NDVI)\n",
        "\n",
        "import numpy as np\n",
        "import pandas as pd\n",
        "import geopandas as gpd\n",
        "import matplotlib.pyplot as plt\n",
        "from esda.moran import Moran, Moran_Local\n",
        "from libpysal.weights import KNN\n",
        "from splot.esda import moran_scatterplot as splot_moran_scatterplot\n",
        "from splot.esda import lisa_cluster as splot_lisa_cluster\n",
        "\n",
        "\n",
        "\n",
        "print(\"\\n--- 2.2 c) Análisis de Autocorrelación Espacial para NDVI ---\")\n",
        "\n",
        "sample_scale_m = 500 # Escala de muestreo\n",
        "max_sample_pixels = 5000 # Límite de píxeles\n",
        "\n",
        "print(f\"Muestreando la imagen NDVI a {sample_scale_m} metros con un máximo de {max_sample_pixels} píxeles...\")\n",
        "\n",
        "ndvi_points_data = None # Inicializar la variable\n",
        "\n",
        "try:\n",
        "    ndvi_points_feature_collection = mean_ndvi_image.sample( # APLICAMOS SAMPLE A mean_ndvi_image\n",
        "        region=AOI_santiago,\n",
        "        scale=sample_scale_m,\n",
        "        numPixels=max_sample_pixels,\n",
        "        tileScale=16,\n",
        "        geometries=True\n",
        "    )\n",
        "    ndvi_points_data = ndvi_points_feature_collection.getInfo()\n",
        "\n",
        "    if not ndvi_points_data['features']:\n",
        "        print(\"ADVERTENCIA: El muestreo NDVI no devolvió puntos. Revisa tu AOI y rango de fechas.\")\n",
        "\n",
        "except ee.EEException as e:\n",
        "    print(f\"ERROR: Falló el muestreo de la imagen NDVI con getInfo(). Detalles: {e}\")\n",
        "    print(\"Asegúrate de que 'mean_ndvi_image' no sea nula o vacía.\")\n",
        "    exit() # Salimos si la operación de EE falla.\n",
        "\n",
        "\n",
        "if ndvi_points_data is None or not ndvi_points_data['features']:\n",
        "    print(\"No hay datos NDVI para procesar. Saliendo del análisis de autocorrelación espacial para NDVI.\")\n",
        "    exit() # Salimos si no hay datos.\n",
        "\n",
        "print(f\"Muestreo de NDVI completado. Número de puntos obtenidos: {len(ndvi_points_data['features'])}\")\n",
        "\n",
        "# ***************************************************************\n",
        "# 2. CONVERTIR PUNTOS NDVI A GEODATAFRAME\n",
        "# ***************************************************************\n",
        "ndvi_values = []\n",
        "ndvi_geometry_coords = []\n",
        "for f in ndvi_points_data['features']:\n",
        "    if f and f.get('properties') and 'NDVI' in f['properties'] and f.get('geometry') and f['geometry'].get('coordinates'):\n",
        "        ndvi_values.append(f['properties']['NDVI'])\n",
        "        ndvi_geometry_coords.append(f['geometry']['coordinates'])\n",
        "\n",
        "gdf_ndvi = gpd.GeoDataFrame( # CREAMOS gdf_ndvi\n",
        "    data={'NDVI': ndvi_values},\n",
        "    geometry=gpd.points_from_xy([p[0] for p in ndvi_geometry_coords], [p[1] for p in ndvi_geometry_coords]),\n",
        "    crs=\"EPSG:4326\"\n",
        ")\n",
        "\n",
        "if gdf_ndvi.empty:\n",
        "    print(\"ADVERTENCIA: El GeoDataFrame NDVI está vacío después del procesamiento de puntos. Revisa el muestreo y los datos.\")\n",
        "    exit()\n",
        "\n",
        "gdf_ndvi = gdf_ndvi.to_crs(epsg=32719) # UTM Zone 19S para Santiago\n",
        "print(f\"GeoDataFrame NDVI creado y proyectado a EPSG:32719 con {len(gdf_ndvi)} puntos.\")\n",
        "\n",
        "\n",
        "# ***************************************************************\n",
        "# 3. AUTOCORRELACIÓN GLOBAL (I de Moran para NDVI)\n",
        "# ***************************************************************\n",
        "print(\"\\n--- 2.2 c) i) Autocorrelación Global (I de Moran para NDVI) ---\")\n",
        "\n",
        "k = 8 # Número de vecinos\n",
        "w_ndvi = KNN.from_dataframe(gdf_ndvi, k=k) # USAMOS gdf_ndvi para la matriz de pesos\n",
        "w_ndvi.transform = 'R'\n",
        "print(f\"Matriz de pesos espaciales NDVI creada con {w_ndvi.n} observaciones y {w_ndvi.pct_nonzero * 100:.2f}% de conexiones.\")\n",
        "\n",
        "y_ndvi = gdf_ndvi['NDVI'].values # USAMOS los valores de NDVI del gdf_ndvi\n",
        "moran_ndvi = Moran(y_ndvi, w_ndvi, permutations=999) # Calculamos Moran para NDVI\n",
        "\n",
        "print(f\"I de Moran global (NDVI): {moran_ndvi.I:.4f}\")\n",
        "print(f\"Valor p (simulación - NDVI): {moran_ndvi.p_sim:.4f}\")\n",
        "print(f\"Esperanza (E[I] - NDVI): {moran_ndvi.EI:.4f}\")\n",
        "\n",
        "if moran_ndvi.p_sim < 0.05:\n",
        "    print(\"El I de Moran de NDVI es estadísticamente significativo (p < 0.05).\")\n",
        "    if moran_ndvi.I > moran_ndvi.EI:\n",
        "        print(\"Existe una autocorrelación espacial POSITIVA significativa para NDVI (agrupamiento).\")\n",
        "    else:\n",
        "        print(\"Existe una autocorrelación espacial NEGATIVA significativa para NDVI (dispersión).\")\n",
        "else:\n",
        "    print(\"El I de Moran de NDVI NO es estadísticamente significativo (p >= 0.05).\")\n",
        "    print(\"La distribución espacial de NDVI es aleatoria (no hay autocorrelación global).\")\n",
        "\n",
        "\n",
        "# GRÁFICO DE MORAN para NDVI\n",
        "fig_ndvi_moran, ax_ndvi_moran = plt.subplots(figsize=(8, 8))\n",
        "splot_moran_scatterplot(moran_ndvi, ax=ax_ndvi_moran) # Usamos moran_ndvi\n",
        "ax_ndvi_moran.set_xlabel(\"NDVI (Estandarizado)\")\n",
        "ax_ndvi_moran.set_ylabel(\"Lag Espacial de NDVI (Estandarizado)\")\n",
        "ax_ndvi_moran.set_title(\"Gráfico de Dispersión de Moran (NDVI)\")\n",
        "plt.grid(True)\n",
        "plt.show()\n",
        "\n",
        "\n",
        "# ***************************************************************\n",
        "# 4. AUTOCORRELACIÓN LOCAL (LISA para NDVI) - ¡Esta es la sección que pedías!\n",
        "# ***************************************************************\n",
        "print(\"\\n--- 2.2 c) ii) Autocorrelación Local (LISA para NDVI) ---\")\n",
        "\n",
        "moran_loc_ndvi = Moran_Local(y_ndvi, w_ndvi, permutations=999) # Calculamos Moran_Local para NDVI\n",
        "alpha = 0.05 # Nivel de significancia\n",
        "\n",
        "# VISUALIZAR LOS PATRONES LISA EN EL MAPA USANDO SPLOT\n",
        "fig_lisa_ndvi_clusters, ax_lisa_ndvi_clusters = plt.subplots(1, 1, figsize=(10, 10))\n",
        "splot_lisa_cluster(\n",
        "    moran_loc_ndvi, # USAMOS moran_loc_ndvi\n",
        "    gdf_ndvi,       # USAMOS gdf_ndvi\n",
        "    ax=ax_lisa_ndvi_clusters,\n",
        "    p=alpha,\n",
        "    legend=True,\n",
        "    legend_kwds={'loc':'upper left', 'bbox_to_anchor':(1, 1)}\n",
        ")\n",
        "ax_lisa_ndvi_clusters.set_title(\"Análisis LISA de NDVI en Santiago (Verano 2024) - Clusters\")\n",
        "ax_lisa_ndvi_clusters.set_axis_off()\n",
        "plt.tight_layout()\n",
        "plt.show()\n",
        "\n",
        "print(\"\\n--- Final del Análisis de Autocorrelación Espacial para NDVI ---\")"
      ],
      "metadata": {
        "id": "nDKOkUjhyb9a"
      },
      "execution_count": null,
      "outputs": []
    },
    {
      "cell_type": "markdown",
      "source": [
        "**d)** Comente, ¿cómo se compara los resultados con los del punto 2.1? ¿puede apreciar alguna similaridad entre los patrones de autocorrelación global y local de las variables $LST$ y $X$?"
      ],
      "metadata": {
        "id": "Q55tptWauH90"
      }
    },
    {
      "cell_type": "markdown",
      "source": [
        "Comparando el LST versus el NDVI, podemos hacerlo a nivel local con LISA, y globalmente con I de Moran.\n",
        "\n",
        "Lamentablemente, no he alcanzado a realizar este análisis, pero hay que hacer un proceso análogo y comparar, luego concluir con los resultados de los raster generados para las variables LST y X, ya sea en el punto c o d, hay que hacer el análisis de los patrones. Insisto, el código es muy similar.\n"
      ],
      "metadata": {
        "id": "ZVeHvduvvFvJ"
      }
    }
  ],
  "metadata": {
    "kernelspec": {
      "display_name": "Python 3 (ipykernel)",
      "language": "python",
      "name": "python3"
    },
    "language_info": {
      "codemirror_mode": {
        "name": "ipython",
        "version": 3
      },
      "file_extension": ".py",
      "mimetype": "text/x-python",
      "name": "python",
      "nbconvert_exporter": "python",
      "pygments_lexer": "ipython3",
      "version": "3.11.7"
    },
    "colab": {
      "provenance": []
    }
  },
  "nbformat": 4,
  "nbformat_minor": 0
}