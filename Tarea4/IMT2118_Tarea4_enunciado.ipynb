{
 "cells": [
  {
   "cell_type": "markdown",
   "metadata": {},
   "source": []
  },
  {
   "cell_type": "markdown",
   "metadata": {},
   "source": [
    "<h1><center>IMT2118 - Ciencia de Datos Geoespaciales (2025-1) </center></h1>\n",
    "<h2><center>Tarea 4:  Monitoreo de Inundaciones y Zonas Urbanas con datos SAR </center></h2>\n",
    "\n",
    "\n",
    "\n",
    "<div class=\"alert alert-block alert-info\">\n",
    "\n",
    "## Instrucciones generales.\n",
    "\n",
    "&#128467; **Fecha de entrega:** 29 de junio 2025, 23:59. <br>\n",
    "\n",
    "&#128236; **Entrega:** a través de Canvas, adjunte todos los archivos necesarios para ejecutar su código dentro de una única carpeta comprimida (.zip). Incluya el  Jupyter Notebook con el desarrollo (puede utilizar este mismo notebook), y las capas o archivos vectoriales que haya generado como parte de su análisis. El objetivo es que **el Notebook pueda correr completamente dentro de la carpeta entregada**. <br>\n",
    "\n",
    "&#128013; La Tarea debe ser desarrollada en lenguaje de programación Python. <br>\n",
    "\n",
    "&#11088; En el Notebook, incluya texto explicando los pasos u operaciones desarrolladas, no sólo el código. El objetivo es que el Notebook siga un hilo narrativo, sea claro y atractivo de leer. En [este link](https://github.com/brad-do/nb-miscellany/blob/master/things_to_do_in_markdown.ipynb) puede encontrar algunos tips útiles para usar celdas de anotaciones o Markdown. <br>\n",
    "\n",
    "\n",
    "&#128519; El trabajo es **invididual**, y debe seguir todos los lineamientos de integridad académica del curso. Recuerde referenciar apropiadamente todas las referencias, códigos y datos consultados para el desarrollo de su tarea.<br>\n",
    "\n",
    "</div>"
   ]
  },
  {
   "cell_type": "markdown",
   "metadata": {},
   "source": [
    "# Parte 1.\n",
    "\n",
    "Más del 40 % de la población mundial vive a menos de 100 km de la costa. Sin embargo, los entornos costeros están en constante cambio, y la erosión junto con otras transformaciones costeras representan un desafío importante tanto para la infraestructura valiosa como para hábitats ecológicos fundamentales. Actualizar los datos sobre la posición de la línea de costa es esencial para que los gestores costeros puedan identificar y mitigar los impactos de la erosión y el cambio costero. Además, estas regiones albergan numerosos humedales, por lo que el monitoreo de la extensión del agua es clave para comprender y proteger estos ecosistemas dinámicos y productivos.\n",
    "\n",
    "Aunque las líneas de costa y las extensiones de cuerpos de agua pueden ser mapeadas con datos ópticos, las imágenes ópticas suelen verse fuertemente afectadas por el clima, especialmente por la presencia de nubes que oscurecen el terreno y el agua. Este problema es particularmente relevante en regiones muy nubladas o durante estaciones lluviosas, donde las nubes impiden obtener imágenes claras durante varios meses del año.\n",
    "\n",
    "Las observaciones de radar, en cambio, no se ven afectadas por la nubosidad. Los dos satélites Sentinel-1, operados por la ESA como parte del programa Copernicus, ofrecen observaciones en todo tipo de clima cada 6 a 12 días. Al desarrollar un proceso que permita clasificar los píxeles observados como tierra o agua, es posible identificar la línea costera y mapear dinámicamente la extensión del agua utilizando datos de radar. \n",
    "\n",
    "En este ejemplo, utilizaremos datos de los satélites Sentinel-1 para construir un clasificador capaz de determinar si un píxel corresponde a agua o tierra. Para ello, emplearemos datos de retrodispersión de radar listos para análisis, que describen la intensidad de la señal recibida por el satélite.\n",
    "\n",
    "### Ejercicios: \n",
    "\n",
    "\n",
    "#### 1. Cargar los datos de retrodispersión (backscatter) de Sentinel-1 para un área de interés y visualizar los datos obtenidos.\n",
    "#### 2. Aplique un filtro para reducir el ruido speckle y convertir los valores digitales a decibelios (dB) para su análisis.\n",
    "#### 3. Utilice análisis de histogramas para determinar el umbral de clasificación del agua.\n",
    "#### 4. Diseñe un clasificador para distinguir entre tierra y agua.\n",
    "#### 5. Aplique el clasificador al área de interés y cuantificar la extensión del área inundada.\n",
    "   "
   ]
  },
  {
   "cell_type": "markdown",
   "metadata": {},
   "source": [
    "# Parte 2:\n",
    "\n",
    "Las zonas urbanas representan una pequeña proporción de la cobertura terrestre global, pero sostienen la vida humana diaria y ejercen una gran influencia en los cambios ambientales y ecológicos (Xia et al., 2019). Esto implica que el monitoreo constante del entorno construido es crucial para el desarrollo sostenible. Existen diversas técnicas para clasificar áreas urbanas utilizando datos ópticos y de radar; una de las más simples es el agrupamiento k-means (aprendizaje automático no supervisado).\n",
    "\n",
    "Si bien las áreas urbanas pueden ser mapeadas mediante datos ópticos, la calidad de las imágenes se ve fuertemente afectada por condiciones meteorológicas como la nubosidad. Esto limita la disponibilidad temporal de imágenes claras en regiones experimentan climas muy nublados y lluvias intensas. En cambio, la calidad de las imágenes de radar es independiente de la luz solar y de las condiciones climáticas, lo que las hace más adecuadas para el mapeo de áreas urbanas.\n",
    "\n",
    "\n",
    "## Ejercicios:\n",
    "\n",
    "Utilizaremos algoritmos de clustering para clasificar el suelo como \"urbano\" y luego compara esos resultados con el producto global de cobertura terrestre ESA WorldCover correspondiente al año 2020.\n",
    "\n",
    "La elección del número de clústeres a utilizar y del valor de píxel que representa la clase de cobertura urbana puede ser orientada mediante la comparación entre las imágenes predichas y un conjunto de datos de referencia (\"ground truth\").\n",
    "\n",
    "\n",
    "#### 1. Seleccione una ciudad (ubicación) de interés  y un rango temporal para el análisis.\n",
    "#### 2. Seleccione los datos de retrodispersión (backscatter) de Sentinel-1 para el área de interés.\n",
    "#### 3. Convierta los valores digitales (digital numbers) a valores en decibeles (dB) para el análisis.\n",
    "#### 4. Genere de una imagen compuesta de medianas con polarizaciones VH y VV a partir de los datos de Sentinel-1.\n",
    "#### 5. Aplique un algoritmo de clustering (por ejemplo, k-means) sobre la imagen.\n",
    "#### 6. Genere una visualización de la imagen de predicción de urbanización obtenida mediante clustering.\n",
    "#### 7. Cargue y visualización del conjunto de datos de referencia de ESA WorldCover para el año 2020.\n",
    "#### 8. Realice una comparación visual y estadística entre la predicción de urbanización y los datos de referencia.\n"
   ]
  },
  {
   "cell_type": "markdown",
   "metadata": {},
   "source": [
    "#### Nota: Es esta tarea, puede recurrir a herramientas de GenIA (aunque no es necesario), excepto para los comentarios y análisis comparativos/cualitativos. En ese caso, se requiere que declare su uso, y adjunte un archivo de texto con los prompts utilizados. El uso NO DECLARADO de asistentes de IA, será considerado una falta a la integridad académica.\n"
   ]
  },
  {
   "cell_type": "markdown",
   "metadata": {},
   "source": [
    "### Referencia:\n",
    "https://github.com/digitalearthafrica/deafrica-sandbox-notebooks\n"
   ]
  },
  {
   "cell_type": "code",
   "execution_count": null,
   "metadata": {},
   "outputs": [],
   "source": []
  }
 ],
 "metadata": {
  "kernelspec": {
   "display_name": "Python 3 (ipykernel)",
   "language": "python",
   "name": "python3"
  },
  "language_info": {
   "codemirror_mode": {
    "name": "ipython",
    "version": 3
   },
   "file_extension": ".py",
   "mimetype": "text/x-python",
   "name": "python",
   "nbconvert_exporter": "python",
   "pygments_lexer": "ipython3",
   "version": "3.12.3"
  }
 },
 "nbformat": 4,
 "nbformat_minor": 4
}
